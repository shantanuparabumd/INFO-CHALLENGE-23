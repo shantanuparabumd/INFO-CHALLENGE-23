{
 "cells": [
  {
   "cell_type": "code",
   "execution_count": 41,
   "id": "037e05c3",
   "metadata": {},
   "outputs": [],
   "source": [
    "import pandas as pd\n",
    "import seaborn as sns\n",
    "import matplotlib.pyplot as plt \n",
    "\n",
    "# Load CSV file into a pandas DataFrame\n",
    "df = pd.read_csv('KC Survey_All Years.csv')\n",
    "# Remove multiple columns by name\n",
    "df = df.drop(['Language', 'legal_gps2122','legal_music2122','legal_app2122'], axis=1)\n",
    "# Calculate the covariance matrix\n",
    "cov_matrix = df.corr()\n",
    "# Print the DataFrame\n",
    "# Plot the covariance matrix as a heatmap\n",
    "# \n"
   ]
  },
  {
   "cell_type": "code",
   "execution_count": 42,
   "id": "5d2949dc",
   "metadata": {},
   "outputs": [],
   "source": [
    "# Select only the required columns\n",
    "# df = df[['zip', 'work_outside_home','Commute','acc_handheld','acc_handfree','acc_read','acc_type','acc_app']]\n",
    "# df.head()"
   ]
  },
  {
   "cell_type": "code",
   "execution_count": 43,
   "id": "b056da6c",
   "metadata": {},
   "outputs": [],
   "source": [
    "# Define a dictionary to map numbers to strings\n",
    "# 1:Completely Acceptable/2:Somewhat Acceptable/3:Somewhat Unacceptable/4:Completely Unacceptable/5:Not Sure\n",
    "mapping = {1: 'Completely Accptable', 2: 'Somewhat Acceptable', 3: 'Somewhat Unacceptable', 4: 'Completely Unacceptable',5:'Not Sure'}\n",
    "# Map the values in the 'column_name' column to strings using the dictionary\n",
    "df[['acc_handheld','acc_handfree','acc_read','acc_type','acc_app']] = df[['acc_handheld','acc_handfree','acc_read','acc_type','acc_app']].replace(mapping)"
   ]
  },
  {
   "cell_type": "code",
   "execution_count": 44,
   "id": "6fea1e96",
   "metadata": {},
   "outputs": [],
   "source": [
    "# 1:Regularly/2:Fairly Often/3:Rarely/4:Just Once/5:Never /6:Not Sure\n",
    "mapping = {1: 'Regularly', 2: 'Fairly Often', 3: 'Rarely', 4: 'Just Once',5:'Never',6:'Not Sure'}\n",
    "\n",
    "df[['beh_read','beh_type','beh_handheld','beh_handfree','beh_app']]=df[['beh_read','beh_type','beh_handheld','beh_handfree','beh_app']].replace(mapping)"
   ]
  },
  {
   "cell_type": "code",
   "execution_count": 45,
   "id": "4abcfc4e",
   "metadata": {},
   "outputs": [],
   "source": [
    "# 1:Very Serious Threat/2:Threat/3:Not a Threat/4:Not At All a Threat/5:Not Sure\n",
    "mapping = {1: 'Very Serious Threat', 2: 'Threat', 3: 'Not a Threat', 4: 'Not At All a Threat',5:'Not Sure'}\n",
    "df[['threat_type','threat_talk','threat_aggressive','threat_spdfwy',\n",
    "'threat_spdres','threat_lights','threat_asleep','threat_alcohol','threat_cannabis','threat_app']]=df[['threat_type','threat_talk','threat_aggressive','threat_spdfwy',\n",
    "'threat_spdres','threat_lights','threat_asleep','threat_alcohol','threat_cannabis','threat_app']].replace(mapping)"
   ]
  },
  {
   "cell_type": "code",
   "execution_count": 46,
   "id": "4f612abd",
   "metadata": {},
   "outputs": [],
   "source": [
    "# 1:Legal/2:Illegal/3:Not Sure\n",
    "mapping = {1: 'Legal', 2: 'Illegal', 3: 'Not Sure'}\n",
    "# df[['legal_addgps','legal_gps1819','legal_gps2122','legal_handheld',\n",
    "# 'legal_handheldstop','legal_handheldspkr','legal_911','legal_camera','legal_music1819',\n",
    "# 'legal_music2122','legal_readstop','legal_typestop','legal_handfree','legal_app1819',\n",
    "# 'legal_app2122','legal_video']]=df[['legal_addgps','legal_gps1819','legal_gps2122','legal_handheld',\n",
    "# 'legal_handheldstop','legal_handheldspkr','legal_911','legal_camera','legal_music1819',\n",
    "# 'legal_music2122','legal_readstop','legal_typestop','legal_handfree','legal_app1819',\n",
    "# 'legal_app2122','legal_video']].replace(mapping)\n",
    "df[['legal_addgps','legal_gps1819','legal_handheld',\n",
    "'legal_handheldstop','legal_handheldspkr','legal_911','legal_camera','legal_music1819',\n",
    "'legal_readstop','legal_typestop','legal_handfree','legal_app1819',\n",
    "'legal_video']]=df[['legal_addgps','legal_gps1819','legal_handheld',\n",
    "'legal_handheldstop','legal_handheldspkr','legal_911','legal_camera','legal_music1819',\n",
    "'legal_readstop','legal_typestop','legal_handfree','legal_app1819',\n",
    "'legal_video']].replace(mapping)"
   ]
  },
  {
   "cell_type": "code",
   "execution_count": 47,
   "id": "932c4925",
   "metadata": {},
   "outputs": [],
   "source": [
    "# 1:Very Likely/2:Somewhat Likely/3:Somwhat Unlikely/4:Very Unlikely/5:Not Sure\n",
    "mapping = {1: 'Very Likely', 2: 'Somewhat Likely', 3: 'Somewhat Unlikely', 4: 'Very Unlikely',5:'Not Sure'}\n",
    "df[['will30_handheld','will30_type','will30_app','willever_tixtalk',\n",
    "'willever_tixtext','willever_crashtalk','willever_crashtext']]=df[['will30_handheld','will30_type','will30_app','willever_tixtalk',\n",
    "'willever_tixtext','willever_crashtalk','willever_crashtext']].replace(mapping)"
   ]
  },
  {
   "cell_type": "code",
   "execution_count": 48,
   "id": "db1fbe6a",
   "metadata": {},
   "outputs": [],
   "source": [
    "mapping = {1: 'Yes', 2: 'No'}\n",
    "df[['stop_family','stop_friends','stop_pass','stop_bt','stop_tix124','stop_tix240','stop_ins',\n",
    "'stop_work','stop_app','stop_block','stop_crash','stop_kill','stop_none']]=df[['stop_family','stop_friends','stop_pass','stop_bt','stop_tix124','stop_tix240','stop_ins',\n",
    "'stop_work','stop_app','stop_block','stop_crash','stop_kill','stop_none']].replace(mapping)"
   ]
  },
  {
   "cell_type": "code",
   "execution_count": 49,
   "id": "1ac4c4c8",
   "metadata": {},
   "outputs": [],
   "source": [
    "mapping = {1:'Male',2:'Female',3:'Others'}\n",
    "df[['Gender']]=df[['Gender']].replace(mapping)"
   ]
  },
  {
   "cell_type": "code",
   "execution_count": 50,
   "id": "87bade41",
   "metadata": {},
   "outputs": [],
   "source": [
    "# 1:Hispanic/2:Black/3:White/4:Asian/5:American Indian / Alaska Native/6:Native Hawaiian / Pacific Islander/7:Multiracial/8:Other\n",
    "mapping = {1: 'Hispanic', 2: 'Black', 3: 'White', 4: 'Asian',5:'American Indian / Alaska Native',\n",
    "          6: 'Native Hawaiian / Pacific Islander',7:'Multiracial',8:'Other'}\n",
    "df[['Race']]=df[['Race']].replace(mapping)"
   ]
  },
  {
   "cell_type": "code",
   "execution_count": 51,
   "id": "4d52da2a",
   "metadata": {},
   "outputs": [],
   "source": [
    "# 1:High School/2:Some College/3:Associate's / Bachelor's/4:Master's Or Higher\n",
    "mapping={1:'High School',2:'Some College',3:'Associate\\'s / Bachelor\\'s',4:'Master\\'s Or Higher'}\n",
    "df[['Education']]=df[['Education']].replace(mapping)"
   ]
  },
  {
   "cell_type": "code",
   "execution_count": 52,
   "id": "167bfb9a",
   "metadata": {},
   "outputs": [
    {
     "ename": "KeyError",
     "evalue": "\"None of [Index(['Driven_in_Last_Month'], dtype='object')] are in the [columns]\"",
     "output_type": "error",
     "traceback": [
      "\u001b[1;31m---------------------------------------------------------------------------\u001b[0m",
      "\u001b[1;31mKeyError\u001b[0m                                  Traceback (most recent call last)",
      "\u001b[1;32m~\\AppData\\Local\\Temp\\ipykernel_10200\\731797950.py\u001b[0m in \u001b[0;36m<module>\u001b[1;34m\u001b[0m\n\u001b[0;32m      2\u001b[0m \u001b[0mdf\u001b[0m\u001b[1;33m[\u001b[0m\u001b[1;33m[\u001b[0m\u001b[1;34m'Income'\u001b[0m\u001b[1;33m]\u001b[0m\u001b[1;33m]\u001b[0m\u001b[1;33m=\u001b[0m\u001b[0mdf\u001b[0m\u001b[1;33m[\u001b[0m\u001b[1;33m[\u001b[0m\u001b[1;34m'Income'\u001b[0m\u001b[1;33m]\u001b[0m\u001b[1;33m]\u001b[0m\u001b[1;33m.\u001b[0m\u001b[0mreplace\u001b[0m\u001b[1;33m(\u001b[0m\u001b[0mmapping\u001b[0m\u001b[1;33m)\u001b[0m\u001b[1;33m\u001b[0m\u001b[1;33m\u001b[0m\u001b[0m\n\u001b[0;32m      3\u001b[0m \u001b[0mmapping\u001b[0m\u001b[1;33m=\u001b[0m\u001b[1;33m{\u001b[0m\u001b[1;36m1\u001b[0m\u001b[1;33m:\u001b[0m\u001b[1;34m'Yes'\u001b[0m\u001b[1;33m,\u001b[0m\u001b[1;36m2\u001b[0m\u001b[1;33m:\u001b[0m\u001b[1;34m'No'\u001b[0m\u001b[1;33m,\u001b[0m\u001b[1;36m3\u001b[0m\u001b[1;33m:\u001b[0m\u001b[1;34m'Not Sure'\u001b[0m\u001b[1;33m}\u001b[0m\u001b[1;33m\u001b[0m\u001b[1;33m\u001b[0m\u001b[0m\n\u001b[1;32m----> 4\u001b[1;33m \u001b[0mdf\u001b[0m\u001b[1;33m[\u001b[0m\u001b[1;33m[\u001b[0m\u001b[1;34m'Driven_in_Last_Month'\u001b[0m\u001b[1;33m]\u001b[0m\u001b[1;33m]\u001b[0m\u001b[1;33m=\u001b[0m\u001b[0mdf\u001b[0m\u001b[1;33m[\u001b[0m\u001b[1;33m[\u001b[0m\u001b[1;34m'Driven_in_Last_Month'\u001b[0m\u001b[1;33m]\u001b[0m\u001b[1;33m]\u001b[0m\u001b[1;33m.\u001b[0m\u001b[0mreplace\u001b[0m\u001b[1;33m(\u001b[0m\u001b[0mmapping\u001b[0m\u001b[1;33m)\u001b[0m\u001b[1;33m\u001b[0m\u001b[1;33m\u001b[0m\u001b[0m\n\u001b[0m\u001b[0;32m      5\u001b[0m \u001b[0mmapping\u001b[0m\u001b[1;33m=\u001b[0m\u001b[1;33m{\u001b[0m\u001b[1;36m1\u001b[0m\u001b[1;33m:\u001b[0m\u001b[1;34m'Urban'\u001b[0m\u001b[1;33m,\u001b[0m\u001b[1;36m2\u001b[0m\u001b[1;33m:\u001b[0m\u001b[1;34m'Suburban'\u001b[0m\u001b[1;33m,\u001b[0m\u001b[1;36m3\u001b[0m\u001b[1;33m:\u001b[0m\u001b[1;34m'Rural'\u001b[0m\u001b[1;33m,\u001b[0m\u001b[1;36m4\u001b[0m\u001b[1;33m:\u001b[0m\u001b[1;34m'Not Sure'\u001b[0m\u001b[1;33m}\u001b[0m\u001b[1;33m\u001b[0m\u001b[1;33m\u001b[0m\u001b[0m\n\u001b[0;32m      6\u001b[0m \u001b[0mdf\u001b[0m\u001b[1;33m[\u001b[0m\u001b[1;33m[\u001b[0m\u001b[1;34m'Urbanicity'\u001b[0m\u001b[1;33m]\u001b[0m\u001b[1;33m]\u001b[0m\u001b[1;33m=\u001b[0m\u001b[0mdf\u001b[0m\u001b[1;33m[\u001b[0m\u001b[1;33m[\u001b[0m\u001b[1;34m'Urbanicity'\u001b[0m\u001b[1;33m]\u001b[0m\u001b[1;33m]\u001b[0m\u001b[1;33m.\u001b[0m\u001b[0mreplace\u001b[0m\u001b[1;33m(\u001b[0m\u001b[0mmapping\u001b[0m\u001b[1;33m)\u001b[0m\u001b[1;33m\u001b[0m\u001b[1;33m\u001b[0m\u001b[0m\n",
      "\u001b[1;32m~\\anaconda3\\lib\\site-packages\\pandas\\core\\frame.py\u001b[0m in \u001b[0;36m__getitem__\u001b[1;34m(self, key)\u001b[0m\n\u001b[0;32m   3509\u001b[0m             \u001b[1;32mif\u001b[0m \u001b[0mis_iterator\u001b[0m\u001b[1;33m(\u001b[0m\u001b[0mkey\u001b[0m\u001b[1;33m)\u001b[0m\u001b[1;33m:\u001b[0m\u001b[1;33m\u001b[0m\u001b[1;33m\u001b[0m\u001b[0m\n\u001b[0;32m   3510\u001b[0m                 \u001b[0mkey\u001b[0m \u001b[1;33m=\u001b[0m \u001b[0mlist\u001b[0m\u001b[1;33m(\u001b[0m\u001b[0mkey\u001b[0m\u001b[1;33m)\u001b[0m\u001b[1;33m\u001b[0m\u001b[1;33m\u001b[0m\u001b[0m\n\u001b[1;32m-> 3511\u001b[1;33m             \u001b[0mindexer\u001b[0m \u001b[1;33m=\u001b[0m \u001b[0mself\u001b[0m\u001b[1;33m.\u001b[0m\u001b[0mcolumns\u001b[0m\u001b[1;33m.\u001b[0m\u001b[0m_get_indexer_strict\u001b[0m\u001b[1;33m(\u001b[0m\u001b[0mkey\u001b[0m\u001b[1;33m,\u001b[0m \u001b[1;34m\"columns\"\u001b[0m\u001b[1;33m)\u001b[0m\u001b[1;33m[\u001b[0m\u001b[1;36m1\u001b[0m\u001b[1;33m]\u001b[0m\u001b[1;33m\u001b[0m\u001b[1;33m\u001b[0m\u001b[0m\n\u001b[0m\u001b[0;32m   3512\u001b[0m \u001b[1;33m\u001b[0m\u001b[0m\n\u001b[0;32m   3513\u001b[0m         \u001b[1;31m# take() does not accept boolean indexers\u001b[0m\u001b[1;33m\u001b[0m\u001b[1;33m\u001b[0m\u001b[0m\n",
      "\u001b[1;32m~\\anaconda3\\lib\\site-packages\\pandas\\core\\indexes\\base.py\u001b[0m in \u001b[0;36m_get_indexer_strict\u001b[1;34m(self, key, axis_name)\u001b[0m\n\u001b[0;32m   5794\u001b[0m             \u001b[0mkeyarr\u001b[0m\u001b[1;33m,\u001b[0m \u001b[0mindexer\u001b[0m\u001b[1;33m,\u001b[0m \u001b[0mnew_indexer\u001b[0m \u001b[1;33m=\u001b[0m \u001b[0mself\u001b[0m\u001b[1;33m.\u001b[0m\u001b[0m_reindex_non_unique\u001b[0m\u001b[1;33m(\u001b[0m\u001b[0mkeyarr\u001b[0m\u001b[1;33m)\u001b[0m\u001b[1;33m\u001b[0m\u001b[1;33m\u001b[0m\u001b[0m\n\u001b[0;32m   5795\u001b[0m \u001b[1;33m\u001b[0m\u001b[0m\n\u001b[1;32m-> 5796\u001b[1;33m         \u001b[0mself\u001b[0m\u001b[1;33m.\u001b[0m\u001b[0m_raise_if_missing\u001b[0m\u001b[1;33m(\u001b[0m\u001b[0mkeyarr\u001b[0m\u001b[1;33m,\u001b[0m \u001b[0mindexer\u001b[0m\u001b[1;33m,\u001b[0m \u001b[0maxis_name\u001b[0m\u001b[1;33m)\u001b[0m\u001b[1;33m\u001b[0m\u001b[1;33m\u001b[0m\u001b[0m\n\u001b[0m\u001b[0;32m   5797\u001b[0m \u001b[1;33m\u001b[0m\u001b[0m\n\u001b[0;32m   5798\u001b[0m         \u001b[0mkeyarr\u001b[0m \u001b[1;33m=\u001b[0m \u001b[0mself\u001b[0m\u001b[1;33m.\u001b[0m\u001b[0mtake\u001b[0m\u001b[1;33m(\u001b[0m\u001b[0mindexer\u001b[0m\u001b[1;33m)\u001b[0m\u001b[1;33m\u001b[0m\u001b[1;33m\u001b[0m\u001b[0m\n",
      "\u001b[1;32m~\\anaconda3\\lib\\site-packages\\pandas\\core\\indexes\\base.py\u001b[0m in \u001b[0;36m_raise_if_missing\u001b[1;34m(self, key, indexer, axis_name)\u001b[0m\n\u001b[0;32m   5854\u001b[0m                 \u001b[1;32mif\u001b[0m \u001b[0muse_interval_msg\u001b[0m\u001b[1;33m:\u001b[0m\u001b[1;33m\u001b[0m\u001b[1;33m\u001b[0m\u001b[0m\n\u001b[0;32m   5855\u001b[0m                     \u001b[0mkey\u001b[0m \u001b[1;33m=\u001b[0m \u001b[0mlist\u001b[0m\u001b[1;33m(\u001b[0m\u001b[0mkey\u001b[0m\u001b[1;33m)\u001b[0m\u001b[1;33m\u001b[0m\u001b[1;33m\u001b[0m\u001b[0m\n\u001b[1;32m-> 5856\u001b[1;33m                 \u001b[1;32mraise\u001b[0m \u001b[0mKeyError\u001b[0m\u001b[1;33m(\u001b[0m\u001b[1;34mf\"None of [{key}] are in the [{axis_name}]\"\u001b[0m\u001b[1;33m)\u001b[0m\u001b[1;33m\u001b[0m\u001b[1;33m\u001b[0m\u001b[0m\n\u001b[0m\u001b[0;32m   5857\u001b[0m \u001b[1;33m\u001b[0m\u001b[0m\n\u001b[0;32m   5858\u001b[0m             \u001b[0mnot_found\u001b[0m \u001b[1;33m=\u001b[0m \u001b[0mlist\u001b[0m\u001b[1;33m(\u001b[0m\u001b[0mensure_index\u001b[0m\u001b[1;33m(\u001b[0m\u001b[0mkey\u001b[0m\u001b[1;33m)\u001b[0m\u001b[1;33m[\u001b[0m\u001b[0mmissing_mask\u001b[0m\u001b[1;33m.\u001b[0m\u001b[0mnonzero\u001b[0m\u001b[1;33m(\u001b[0m\u001b[1;33m)\u001b[0m\u001b[1;33m[\u001b[0m\u001b[1;36m0\u001b[0m\u001b[1;33m]\u001b[0m\u001b[1;33m]\u001b[0m\u001b[1;33m.\u001b[0m\u001b[0munique\u001b[0m\u001b[1;33m(\u001b[0m\u001b[1;33m)\u001b[0m\u001b[1;33m)\u001b[0m\u001b[1;33m\u001b[0m\u001b[1;33m\u001b[0m\u001b[0m\n",
      "\u001b[1;31mKeyError\u001b[0m: \"None of [Index(['Driven_in_Last_Month'], dtype='object')] are in the [columns]\""
     ]
    }
   ],
   "source": [
    "mapping={1:'< $40K',2:'$40K - $80K',3:'$80K - $120K',4:'$120 - $160K',5:'> $160K'}\n",
    "df[['Income']]=df[['Income']].replace(mapping)\n",
    "mapping={1:'Yes',2:'No',3:'Not Sure'}\n",
    "df[['drive30days']]=df[['Driven_in_Last_Month']].replace(mapping)\n",
    "mapping={1:'Urban',2:'Suburban',3:'Rural',4:'Not Sure'}\n",
    "df[['Urbanicity']]=df[['Urbanicity']].replace(mapping)\n",
    "mapping={1:'English',2:'Spanish'}\n",
    "df[['Language']]=df[['Language']].replace(mapping)\n"
   ]
  },
  {
   "cell_type": "code",
   "execution_count": null,
   "id": "f5879276",
   "metadata": {},
   "outputs": [],
   "source": []
  }
 ],
 "metadata": {
  "kernelspec": {
   "display_name": "Python 3 (ipykernel)",
   "language": "python",
   "name": "python3"
  },
  "language_info": {
   "codemirror_mode": {
    "name": "ipython",
    "version": 3
   },
   "file_extension": ".py",
   "mimetype": "text/x-python",
   "name": "python",
   "nbconvert_exporter": "python",
   "pygments_lexer": "ipython3",
   "version": "3.9.13"
  }
 },
 "nbformat": 4,
 "nbformat_minor": 5
}
