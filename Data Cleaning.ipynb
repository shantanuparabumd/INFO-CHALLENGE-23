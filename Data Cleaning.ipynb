{
 "cells": [
  {
   "cell_type": "code",
   "execution_count": 95,
   "id": "aadec6a1",
   "metadata": {},
   "outputs": [],
   "source": [
    "import pandas as pd\n",
    "import seaborn as sns\n",
    "import numpy as np\n",
    "import plotly.express as px\n",
    "import random"
   ]
  },
  {
   "cell_type": "code",
   "execution_count": 96,
   "id": "dcc3d047",
   "metadata": {},
   "outputs": [
    {
     "data": {
      "text/html": [
       "<div>\n",
       "<style scoped>\n",
       "    .dataframe tbody tr th:only-of-type {\n",
       "        vertical-align: middle;\n",
       "    }\n",
       "\n",
       "    .dataframe tbody tr th {\n",
       "        vertical-align: top;\n",
       "    }\n",
       "\n",
       "    .dataframe thead th {\n",
       "        text-align: right;\n",
       "    }\n",
       "</style>\n",
       "<table border=\"1\" class=\"dataframe\">\n",
       "  <thead>\n",
       "    <tr style=\"text-align: right;\">\n",
       "      <th></th>\n",
       "      <th>zip</th>\n",
       "      <th>work_outside_home</th>\n",
       "      <th>Commute</th>\n",
       "      <th>beh_read</th>\n",
       "      <th>beh_type</th>\n",
       "      <th>beh_handheld</th>\n",
       "      <th>beh_handfree</th>\n",
       "      <th>...</th>\n",
       "      <th>Language</th>\n",
       "      <th>legal_gps2122</th>\n",
       "      <th>legal_music2122</th>\n",
       "      <th>legal_app2122</th>\n",
       "      <th>year</th>\n",
       "      <th>month</th>\n",
       "      <th>day</th>\n",
       "    </tr>\n",
       "  </thead>\n",
       "  <tbody>\n",
       "    <tr>\n",
       "      <th>0</th>\n",
       "      <td>98001</td>\n",
       "      <td>1</td>\n",
       "      <td>1.0</td>\n",
       "      <td>2</td>\n",
       "      <td>2</td>\n",
       "      <td>3</td>\n",
       "      <td>5</td>\n",
       "      <td>...</td>\n",
       "      <td>NaN</td>\n",
       "      <td>NaN</td>\n",
       "      <td>NaN</td>\n",
       "      <td>NaN</td>\n",
       "      <td>2018</td>\n",
       "      <td>6</td>\n",
       "      <td>17</td>\n",
       "    </tr>\n",
       "    <tr>\n",
       "      <th>1</th>\n",
       "      <td>98052</td>\n",
       "      <td>1</td>\n",
       "      <td>1.0</td>\n",
       "      <td>5</td>\n",
       "      <td>5</td>\n",
       "      <td>5</td>\n",
       "      <td>2</td>\n",
       "      <td>...</td>\n",
       "      <td>NaN</td>\n",
       "      <td>NaN</td>\n",
       "      <td>NaN</td>\n",
       "      <td>NaN</td>\n",
       "      <td>2018</td>\n",
       "      <td>6</td>\n",
       "      <td>17</td>\n",
       "    </tr>\n",
       "    <tr>\n",
       "      <th>2</th>\n",
       "      <td>98042</td>\n",
       "      <td>1</td>\n",
       "      <td>1.0</td>\n",
       "      <td>5</td>\n",
       "      <td>5</td>\n",
       "      <td>2</td>\n",
       "      <td>2</td>\n",
       "      <td>...</td>\n",
       "      <td>NaN</td>\n",
       "      <td>NaN</td>\n",
       "      <td>NaN</td>\n",
       "      <td>NaN</td>\n",
       "      <td>2018</td>\n",
       "      <td>6</td>\n",
       "      <td>17</td>\n",
       "    </tr>\n",
       "    <tr>\n",
       "      <th>3</th>\n",
       "      <td>98028</td>\n",
       "      <td>2</td>\n",
       "      <td>NaN</td>\n",
       "      <td>5</td>\n",
       "      <td>5</td>\n",
       "      <td>5</td>\n",
       "      <td>5</td>\n",
       "      <td>...</td>\n",
       "      <td>NaN</td>\n",
       "      <td>NaN</td>\n",
       "      <td>NaN</td>\n",
       "      <td>NaN</td>\n",
       "      <td>2018</td>\n",
       "      <td>6</td>\n",
       "      <td>17</td>\n",
       "    </tr>\n",
       "    <tr>\n",
       "      <th>4</th>\n",
       "      <td>98003</td>\n",
       "      <td>2</td>\n",
       "      <td>NaN</td>\n",
       "      <td>5</td>\n",
       "      <td>5</td>\n",
       "      <td>5</td>\n",
       "      <td>3</td>\n",
       "      <td>...</td>\n",
       "      <td>NaN</td>\n",
       "      <td>NaN</td>\n",
       "      <td>NaN</td>\n",
       "      <td>NaN</td>\n",
       "      <td>2018</td>\n",
       "      <td>6</td>\n",
       "      <td>17</td>\n",
       "    </tr>\n",
       "  </tbody>\n",
       "</table>\n",
       "<p>5 rows × 72 columns</p>\n",
       "</div>"
      ],
      "text/plain": [
       "     zip  work_outside_home  Commute  beh_read  beh_type  beh_handheld  \\\n",
       "0  98001                  1      1.0         2         2             3   \n",
       "1  98052                  1      1.0         5         5             5   \n",
       "2  98042                  1      1.0         5         5             2   \n",
       "3  98028                  2      NaN         5         5             5   \n",
       "4  98003                  2      NaN         5         5             5   \n",
       "\n",
       "   beh_handfree  ...  Language  legal_gps2122  legal_music2122  legal_app2122  \\\n",
       "0             5  ...       NaN            NaN              NaN            NaN   \n",
       "1             2  ...       NaN            NaN              NaN            NaN   \n",
       "2             2  ...       NaN            NaN              NaN            NaN   \n",
       "3             5  ...       NaN            NaN              NaN            NaN   \n",
       "4             3  ...       NaN            NaN              NaN            NaN   \n",
       "\n",
       "   year  month  day  \n",
       "0  2018      6   17  \n",
       "1  2018      6   17  \n",
       "2  2018      6   17  \n",
       "3  2018      6   17  \n",
       "4  2018      6   17  \n",
       "\n",
       "[5 rows x 72 columns]"
      ]
     },
     "execution_count": 96,
     "metadata": {},
     "output_type": "execute_result"
    }
   ],
   "source": [
    "traffic_data = pd.read_csv('KC Survey_All Years.csv')\n",
    "traffic_data.head(5)"
   ]
  },
  {
   "cell_type": "code",
   "execution_count": 97,
   "id": "5ccf786c",
   "metadata": {},
   "outputs": [],
   "source": [
    "traffic_data = traffic_data.drop(['Language', 'legal_gps2122','legal_music2122','legal_app2122'], axis=1)"
   ]
  },
  {
   "cell_type": "code",
   "execution_count": 98,
   "id": "ceca3ee7",
   "metadata": {},
   "outputs": [
    {
     "data": {
      "text/plain": [
       "98052    116\n",
       "98003    113\n",
       "98125    100\n",
       "98002     98\n",
       "98023     95\n",
       "        ... \n",
       "98165      1\n",
       "98158      1\n",
       "98194      1\n",
       "98141      1\n",
       "98138      1\n",
       "Name: zip, Length: 117, dtype: int64"
      ]
     },
     "execution_count": 98,
     "metadata": {},
     "output_type": "execute_result"
    }
   ],
   "source": [
    "traffic_data.sort_values('zip')\n",
    "traffic_data['zip'].value_counts()"
   ]
  },
  {
   "cell_type": "code",
   "execution_count": 99,
   "id": "77863b97",
   "metadata": {},
   "outputs": [
    {
     "data": {
      "text/plain": [
       "<Axes: >"
      ]
     },
     "execution_count": 99,
     "metadata": {},
     "output_type": "execute_result"
    },
    {
     "data": {
      "image/png": "[encoded data removed]",
      "text/plain": [
       "<Figure size 1200x1200 with 2 Axes>"
      ]
     },
     "metadata": {},
     "output_type": "display_data"
    }
   ],
   "source": [
    "# sns.heatmap(traffic_data.corr(), \n",
    "#         xticklabels=traffic_data.corr().columns,\n",
    "#         yticklabels=traffic_data.corr().columns)\n",
    "sns.set(rc={'figure.figsize':(12,12)})\n",
    "c = traffic_data.corr()\n",
    "sns.heatmap(c, cmap=\"Blues\", annot=False, mask = (np.abs(c) >= 0.85))\n"
   ]
  },
  {
   "cell_type": "code",
   "execution_count": 100,
   "id": "279dffd8",
   "metadata": {},
   "outputs": [
    {
     "data": {
      "text/html": [
       "<div>\n",
       "<style scoped>\n",
       "    .dataframe tbody tr th:only-of-type {\n",
       "        vertical-align: middle;\n",
       "    }\n",
       "\n",
       "    .dataframe tbody tr th {\n",
       "        vertical-align: top;\n",
       "    }\n",
       "\n",
       "    .dataframe thead th {\n",
       "        text-align: right;\n",
       "    }\n",
       "</style>\n",
       "<table border=\"1\" class=\"dataframe\">\n",
       "  <thead>\n",
       "    <tr style=\"text-align: right;\">\n",
       "      <th></th>\n",
       "      <th>zip</th>\n",
       "      <th>work_outside_home</th>\n",
       "      <th>Commute</th>\n",
       "      <th>beh_read</th>\n",
       "      <th>beh_type</th>\n",
       "      <th>beh_handheld</th>\n",
       "      <th>beh_handfree</th>\n",
       "      <th>...</th>\n",
       "      <th>Income</th>\n",
       "      <th>drive30days</th>\n",
       "      <th>Urbanicity</th>\n",
       "      <th>weight</th>\n",
       "      <th>year</th>\n",
       "      <th>month</th>\n",
       "      <th>day</th>\n",
       "    </tr>\n",
       "  </thead>\n",
       "  <tbody>\n",
       "    <tr>\n",
       "      <th>0</th>\n",
       "      <td>98001</td>\n",
       "      <td>1</td>\n",
       "      <td>1.0</td>\n",
       "      <td>Fairly Often</td>\n",
       "      <td>Fairly Often</td>\n",
       "      <td>Rarely</td>\n",
       "      <td>Never</td>\n",
       "      <td>...</td>\n",
       "      <td>$80K - $120K</td>\n",
       "      <td>Yes</td>\n",
       "      <td>Suburban</td>\n",
       "      <td>0.611521</td>\n",
       "      <td>2018</td>\n",
       "      <td>6</td>\n",
       "      <td>17</td>\n",
       "    </tr>\n",
       "    <tr>\n",
       "      <th>1</th>\n",
       "      <td>98052</td>\n",
       "      <td>1</td>\n",
       "      <td>1.0</td>\n",
       "      <td>Never</td>\n",
       "      <td>Never</td>\n",
       "      <td>Never</td>\n",
       "      <td>Fairly Often</td>\n",
       "      <td>...</td>\n",
       "      <td>$80K - $120K</td>\n",
       "      <td>No</td>\n",
       "      <td>Suburban</td>\n",
       "      <td>1.077168</td>\n",
       "      <td>2018</td>\n",
       "      <td>6</td>\n",
       "      <td>17</td>\n",
       "    </tr>\n",
       "    <tr>\n",
       "      <th>2</th>\n",
       "      <td>98042</td>\n",
       "      <td>1</td>\n",
       "      <td>1.0</td>\n",
       "      <td>Never</td>\n",
       "      <td>Never</td>\n",
       "      <td>Fairly Often</td>\n",
       "      <td>Fairly Often</td>\n",
       "      <td>...</td>\n",
       "      <td>$120 - $160K</td>\n",
       "      <td>Yes</td>\n",
       "      <td>Suburban</td>\n",
       "      <td>1.459666</td>\n",
       "      <td>2018</td>\n",
       "      <td>6</td>\n",
       "      <td>17</td>\n",
       "    </tr>\n",
       "    <tr>\n",
       "      <th>3</th>\n",
       "      <td>98028</td>\n",
       "      <td>2</td>\n",
       "      <td>NaN</td>\n",
       "      <td>Never</td>\n",
       "      <td>Never</td>\n",
       "      <td>Never</td>\n",
       "      <td>Never</td>\n",
       "      <td>...</td>\n",
       "      <td>&lt; $40K</td>\n",
       "      <td>No</td>\n",
       "      <td>Suburban</td>\n",
       "      <td>0.602725</td>\n",
       "      <td>2018</td>\n",
       "      <td>6</td>\n",
       "      <td>17</td>\n",
       "    </tr>\n",
       "    <tr>\n",
       "      <th>4</th>\n",
       "      <td>98003</td>\n",
       "      <td>2</td>\n",
       "      <td>NaN</td>\n",
       "      <td>Never</td>\n",
       "      <td>Never</td>\n",
       "      <td>Never</td>\n",
       "      <td>Rarely</td>\n",
       "      <td>...</td>\n",
       "      <td>$40K - $80K</td>\n",
       "      <td>Yes</td>\n",
       "      <td>Suburban</td>\n",
       "      <td>0.498099</td>\n",
       "      <td>2018</td>\n",
       "      <td>6</td>\n",
       "      <td>17</td>\n",
       "    </tr>\n",
       "  </tbody>\n",
       "</table>\n",
       "<p>5 rows × 68 columns</p>\n",
       "</div>"
      ],
      "text/plain": [
       "     zip  work_outside_home  Commute      beh_read      beh_type  \\\n",
       "0  98001                  1      1.0  Fairly Often  Fairly Often   \n",
       "1  98052                  1      1.0         Never         Never   \n",
       "2  98042                  1      1.0         Never         Never   \n",
       "3  98028                  2      NaN         Never         Never   \n",
       "4  98003                  2      NaN         Never         Never   \n",
       "\n",
       "   beh_handheld  beh_handfree  ...        Income drive30days Urbanicity  \\\n",
       "0        Rarely         Never  ...  $80K - $120K         Yes   Suburban   \n",
       "1         Never  Fairly Often  ...  $80K - $120K          No   Suburban   \n",
       "2  Fairly Often  Fairly Often  ...  $120 - $160K         Yes   Suburban   \n",
       "3         Never         Never  ...        < $40K          No   Suburban   \n",
       "4         Never        Rarely  ...   $40K - $80K         Yes   Suburban   \n",
       "\n",
       "     weight  year month day  \n",
       "0  0.611521  2018     6  17  \n",
       "1  1.077168  2018     6  17  \n",
       "2  1.459666  2018     6  17  \n",
       "3  0.602725  2018     6  17  \n",
       "4  0.498099  2018     6  17  \n",
       "\n",
       "[5 rows x 68 columns]"
      ]
     },
     "execution_count": 100,
     "metadata": {},
     "output_type": "execute_result"
    }
   ],
   "source": [
    "traffic_data = pd.read_csv('named_data.csv')\n",
    "traffic_data.head(5)"
   ]
  },
  {
   "attachments": {},
   "cell_type": "markdown",
   "id": "db152195",
   "metadata": {},
   "source": [
    "# DATA ANALYSIS"
   ]
  },
  {
   "cell_type": "code",
   "execution_count": 101,
   "id": "26c95112",
   "metadata": {},
   "outputs": [],
   "source": [
    "import matplotlib.pyplot as plt\n",
    "import plotly.express as px"
   ]
  },
  {
   "cell_type": "code",
   "execution_count": 102,
   "id": "943232c6",
   "metadata": {},
   "outputs": [
    {
     "data": {
      "application/vnd.plotly.v1+json": {
       "config": {
        "plotlyServerURL": "https://plot.ly"
       },
       "data": [
        {
         "alignmentgroup": "True",
         "hovertemplate": "beh_read=Aware<br>zip=%{x}<br>percentage=%{y}<extra></extra>",
         "legendgroup": "Aware",
         "marker": {
          "color": "#636efa",
          "pattern": {
           "shape": ""
          }
         },
         "name": "Aware",
         "offsetgroup": "Aware",
         "orientation": "v",
         "showlegend": true,
         "textposition": "auto",
         "type": "bar",
         "x": [
          "98019",
          "98070",
          "98056",
          "98028",
          "98031",
          "98133",
          "98104",
          "98125",
          "98111",
          "98075",
          "98166",
          "98134",
          "98199",
          "98022",
          "98023",
          "98168",
          "98119",
          "98003",
          "98116",
          "98053",
          "98047",
          "98033",
          "98030",
          "98072",
          "98040",
          "98155",
          "98146",
          "98126",
          "98188",
          "98004",
          "98074",
          "98117",
          "98136",
          "98144",
          "98148",
          "98101",
          "98103",
          "98122",
          "98027",
          "98105",
          "98052",
          "98038",
          "98057",
          "98058",
          "98092",
          "98008",
          "98011",
          "98115",
          "98001",
          "98029",
          "98177",
          "98106",
          "98045",
          "98034",
          "98042",
          "98059",
          "98006",
          "98055",
          "98002",
          "98108",
          "98109",
          "98391",
          "98077",
          "98032",
          "98107",
          "98198",
          "98178",
          "98118",
          "98102",
          "98112",
          "98121",
          "98007",
          "98010",
          "98005",
          "98065"
         ],
         "xaxis": "x",
         "y": [
          94.11764705882352,
          90.9090909090909,
          90.56603773584906,
          88,
          87.6923076923077,
          87.35632183908046,
          87.2340425531915,
          85,
          84.61538461538461,
          84.21052631578947,
          83.87096774193549,
          83.33333333333334,
          83.33333333333334,
          83.33333333333334,
          83.15789473684211,
          82.85714285714286,
          82.6086956521739,
          82.30088495575221,
          82.14285714285714,
          82.14285714285714,
          81.81818181818183,
          81.25,
          81.25,
          80.95238095238095,
          80.76923076923077,
          80.7017543859649,
          79.54545454545455,
          79.41176470588235,
          79.3103448275862,
          79.06976744186046,
          78.78787878787878,
          77.77777777777779,
          77.77777777777779,
          77.77777777777779,
          77.77777777777779,
          77.63157894736842,
          77.41935483870968,
          77.38095238095238,
          76.92307692307693,
          76.92307692307693,
          76.72413793103449,
          76.66666666666667,
          75.86206896551724,
          75.82417582417582,
          75.64102564102564,
          75.51020408163265,
          75.51020408163265,
          75.40983606557377,
          75,
          75,
          75,
          74,
          73.91304347826086,
          73.86363636363636,
          73.75,
          73.68421052631578,
          73.61111111111111,
          73.52941176470588,
          73.46938775510205,
          73.17073170731707,
          72.09302325581395,
          71.73913043478261,
          71.42857142857143,
          70.3125,
          70.2127659574468,
          69.73684210526315,
          69.6969696969697,
          67.74193548387096,
          67.64705882352942,
          66.66666666666666,
          65.9090909090909,
          64.70588235294117,
          63.63636363636363,
          63.1578947368421,
          61.111111111111114
         ],
         "yaxis": "y"
        },
        {
         "alignmentgroup": "True",
         "hovertemplate": "beh_read=Need Awareness<br>zip=%{x}<br>percentage=%{y}<extra></extra>",
         "legendgroup": "Need Awareness",
         "marker": {
          "color": "#EF553B",
          "pattern": {
           "shape": ""
          }
         },
         "name": "Need Awareness",
         "offsetgroup": "Need Awareness",
         "orientation": "v",
         "showlegend": true,
         "textposition": "auto",
         "type": "bar",
         "x": [
          "98065",
          "98005",
          "98010",
          "98007",
          "98121",
          "98112",
          "98102",
          "98118",
          "98178",
          "98198",
          "98107",
          "98032",
          "98077",
          "98391",
          "98109",
          "98108",
          "98002",
          "98055",
          "98006",
          "98059",
          "98042",
          "98034",
          "98045",
          "98106",
          "98177",
          "98001",
          "98029",
          "98115",
          "98008",
          "98011",
          "98092",
          "98058",
          "98057",
          "98038",
          "98052",
          "98027",
          "98105",
          "98122",
          "98103",
          "98101",
          "98148",
          "98144",
          "98136",
          "98117",
          "98074",
          "98004",
          "98188",
          "98126",
          "98146",
          "98155",
          "98040",
          "98072",
          "98030",
          "98033",
          "98047",
          "98116",
          "98053",
          "98003",
          "98119",
          "98168",
          "98023",
          "98022",
          "98199",
          "98134",
          "98166",
          "98075",
          "98111",
          "98125",
          "98104",
          "98133",
          "98031",
          "98028",
          "98056",
          "98070",
          "98019"
         ],
         "xaxis": "x",
         "y": [
          38.88888888888889,
          36.84210526315789,
          36.36363636363637,
          35.294117647058826,
          34.090909090909086,
          33.33333333333333,
          32.35294117647059,
          32.25806451612903,
          30.303030303030305,
          30.263157894736842,
          29.78723404255319,
          29.6875,
          28.57142857142857,
          28.26086956521739,
          27.906976744186046,
          26.82926829268293,
          26.53061224489796,
          26.47058823529412,
          26.38888888888889,
          26.31578947368421,
          26.25,
          26.136363636363637,
          26.08695652173913,
          26,
          25,
          25,
          25,
          24.59016393442623,
          24.489795918367346,
          24.489795918367346,
          24.358974358974358,
          24.175824175824175,
          24.137931034482758,
          23.333333333333332,
          23.275862068965516,
          23.076923076923077,
          23.076923076923077,
          22.61904761904762,
          22.58064516129032,
          22.36842105263158,
          22.22222222222222,
          22.22222222222222,
          22.22222222222222,
          22.22222222222222,
          21.21212121212121,
          20.930232558139537,
          20.689655172413794,
          20.588235294117645,
          20.454545454545457,
          19.298245614035086,
          19.230769230769234,
          19.047619047619047,
          18.75,
          18.75,
          18.181818181818183,
          17.857142857142858,
          17.857142857142858,
          17.699115044247787,
          17.391304347826086,
          17.142857142857142,
          16.842105263157894,
          16.666666666666664,
          16.666666666666664,
          16.666666666666664,
          16.129032258064516,
          15.789473684210526,
          15.384615384615385,
          15,
          12.76595744680851,
          12.643678160919542,
          12.307692307692308,
          12,
          9.433962264150944,
          9.090909090909092,
          5.88235294117647
         ],
         "yaxis": "y"
        }
       ],
       "layout": {
        "barmode": "relative",
        "hovermode": false,
        "legend": {
         "title": {
          "text": "Reading while driving"
         },
         "tracegroupgap": 0
        },
        "margin": {
         "t": 60
        },
        "template": {
         "data": {
          "bar": [
           {
            "error_x": {
             "color": "#2a3f5f"
            },
            "error_y": {
             "color": "#2a3f5f"
            },
            "marker": {
             "line": {
              "color": "#E5ECF6",
              "width": 0.5
             },
             "pattern": {
              "fillmode": "overlay",
              "size": 10,
              "solidity": 0.2
             }
            },
            "type": "bar"
           }
          ],
          "barpolar": [
           {
            "marker": {
             "line": {
              "color": "#E5ECF6",
              "width": 0.5
             },
             "pattern": {
              "fillmode": "overlay",
              "size": 10,
              "solidity": 0.2
             }
            },
            "type": "barpolar"
           }
          ],
          "carpet": [
           {
            "aaxis": {
             "endlinecolor": "#2a3f5f",
             "gridcolor": "white",
             "linecolor": "white",
             "minorgridcolor": "white",
             "startlinecolor": "#2a3f5f"
            },
            "baxis": {
             "endlinecolor": "#2a3f5f",
             "gridcolor": "white",
             "linecolor": "white",
             "minorgridcolor": "white",
             "startlinecolor": "#2a3f5f"
            },
            "type": "carpet"
           }
          ],
          "choropleth": [
           {
            "colorbar": {
             "outlinewidth": 0,
             "ticks": ""
            },
            "type": "choropleth"
           }
          ],
          "contour": [
           {
            "colorbar": {
             "outlinewidth": 0,
             "ticks": ""
            },
            "colorscale": [
             [
              0,
              "#0d0887"
             ],
             [
              0.1111111111111111,
              "#46039f"
             ],
             [
              0.2222222222222222,
              "#7201a8"
             ],
             [
              0.3333333333333333,
              "#9c179e"
             ],
             [
              0.4444444444444444,
              "#bd3786"
             ],
             [
              0.5555555555555556,
              "#d8576b"
             ],
             [
              0.6666666666666666,
              "#ed7953"
             ],
             [
              0.7777777777777778,
              "#fb9f3a"
             ],
             [
              0.8888888888888888,
              "#fdca26"
             ],
             [
              1,
              "#f0f921"
             ]
            ],
            "type": "contour"
           }
          ],
          "contourcarpet": [
           {
            "colorbar": {
             "outlinewidth": 0,
             "ticks": ""
            },
            "type": "contourcarpet"
           }
          ],
          "heatmap": [
           {
            "colorbar": {
             "outlinewidth": 0,
             "ticks": ""
            },
            "colorscale": [
             [
              0,
              "#0d0887"
             ],
             [
              0.1111111111111111,
              "#46039f"
             ],
             [
              0.2222222222222222,
              "#7201a8"
             ],
             [
              0.3333333333333333,
              "#9c179e"
             ],
             [
              0.4444444444444444,
              "#bd3786"
             ],
             [
              0.5555555555555556,
              "#d8576b"
             ],
             [
              0.6666666666666666,
              "#ed7953"
             ],
             [
              0.7777777777777778,
              "#fb9f3a"
             ],
             [
              0.8888888888888888,
              "#fdca26"
             ],
             [
              1,
              "#f0f921"
             ]
            ],
            "type": "heatmap"
           }
          ],
          "heatmapgl": [
           {
            "colorbar": {
             "outlinewidth": 0,
             "ticks": ""
            },
            "colorscale": [
             [
              0,
              "#0d0887"
             ],
             [
              0.1111111111111111,
              "#46039f"
             ],
             [
              0.2222222222222222,
              "#7201a8"
             ],
             [
              0.3333333333333333,
              "#9c179e"
             ],
             [
              0.4444444444444444,
              "#bd3786"
             ],
             [
              0.5555555555555556,
              "#d8576b"
             ],
             [
              0.6666666666666666,
              "#ed7953"
             ],
             [
              0.7777777777777778,
              "#fb9f3a"
             ],
             [
              0.8888888888888888,
              "#fdca26"
             ],
             [
              1,
              "#f0f921"
             ]
            ],
            "type": "heatmapgl"
           }
          ],
          "histogram": [
           {
            "marker": {
             "pattern": {
              "fillmode": "overlay",
              "size": 10,
              "solidity": 0.2
             }
            },
            "type": "histogram"
           }
          ],
          "histogram2d": [
           {
            "colorbar": {
             "outlinewidth": 0,
             "ticks": ""
            },
            "colorscale": [
             [
              0,
              "#0d0887"
             ],
             [
              0.1111111111111111,
              "#46039f"
             ],
             [
              0.2222222222222222,
              "#7201a8"
             ],
             [
              0.3333333333333333,
              "#9c179e"
             ],
             [
              0.4444444444444444,
              "#bd3786"
             ],
             [
              0.5555555555555556,
              "#d8576b"
             ],
             [
              0.6666666666666666,
              "#ed7953"
             ],
             [
              0.7777777777777778,
              "#fb9f3a"
             ],
             [
              0.8888888888888888,
              "#fdca26"
             ],
             [
              1,
              "#f0f921"
             ]
            ],
            "type": "histogram2d"
           }
          ],
          "histogram2dcontour": [
           {
            "colorbar": {
             "outlinewidth": 0,
             "ticks": ""
            },
            "colorscale": [
             [
              0,
              "#0d0887"
             ],
             [
              0.1111111111111111,
              "#46039f"
             ],
             [
              0.2222222222222222,
              "#7201a8"
             ],
             [
              0.3333333333333333,
              "#9c179e"
             ],
             [
              0.4444444444444444,
              "#bd3786"
             ],
             [
              0.5555555555555556,
              "#d8576b"
             ],
             [
              0.6666666666666666,
              "#ed7953"
             ],
             [
              0.7777777777777778,
              "#fb9f3a"
             ],
             [
              0.8888888888888888,
              "#fdca26"
             ],
             [
              1,
              "#f0f921"
             ]
            ],
            "type": "histogram2dcontour"
           }
          ],
          "mesh3d": [
           {
            "colorbar": {
             "outlinewidth": 0,
             "ticks": ""
            },
            "type": "mesh3d"
           }
          ],
          "parcoords": [
           {
            "line": {
             "colorbar": {
              "outlinewidth": 0,
              "ticks": ""
             }
            },
            "type": "parcoords"
           }
          ],
          "pie": [
           {
            "automargin": true,
            "type": "pie"
           }
          ],
          "scatter": [
           {
            "fillpattern": {
             "fillmode": "overlay",
             "size": 10,
             "solidity": 0.2
            },
            "type": "scatter"
           }
          ],
          "scatter3d": [
           {
            "line": {
             "colorbar": {
              "outlinewidth": 0,
              "ticks": ""
             }
            },
            "marker": {
             "colorbar": {
              "outlinewidth": 0,
              "ticks": ""
             }
            },
            "type": "scatter3d"
           }
          ],
          "scattercarpet": [
           {
            "marker": {
             "colorbar": {
              "outlinewidth": 0,
              "ticks": ""
             }
            },
            "type": "scattercarpet"
           }
          ],
          "scattergeo": [
           {
            "marker": {
             "colorbar": {
              "outlinewidth": 0,
              "ticks": ""
             }
            },
            "type": "scattergeo"
           }
          ],
          "scattergl": [
           {
            "marker": {
             "colorbar": {
              "outlinewidth": 0,
              "ticks": ""
             }
            },
            "type": "scattergl"
           }
          ],
          "scattermapbox": [
           {
            "marker": {
             "colorbar": {
              "outlinewidth": 0,
              "ticks": ""
             }
            },
            "type": "scattermapbox"
           }
          ],
          "scatterpolar": [
           {
            "marker": {
             "colorbar": {
              "outlinewidth": 0,
              "ticks": ""
             }
            },
            "type": "scatterpolar"
           }
          ],
          "scatterpolargl": [
           {
            "marker": {
             "colorbar": {
              "outlinewidth": 0,
              "ticks": ""
             }
            },
            "type": "scatterpolargl"
           }
          ],
          "scatterternary": [
           {
            "marker": {
             "colorbar": {
              "outlinewidth": 0,
              "ticks": ""
             }
            },
            "type": "scatterternary"
           }
          ],
          "surface": [
           {
            "colorbar": {
             "outlinewidth": 0,
             "ticks": ""
            },
            "colorscale": [
             [
              0,
              "#0d0887"
             ],
             [
              0.1111111111111111,
              "#46039f"
             ],
             [
              0.2222222222222222,
              "#7201a8"
             ],
             [
              0.3333333333333333,
              "#9c179e"
             ],
             [
              0.4444444444444444,
              "#bd3786"
             ],
             [
              0.5555555555555556,
              "#d8576b"
             ],
             [
              0.6666666666666666,
              "#ed7953"
             ],
             [
              0.7777777777777778,
              "#fb9f3a"
             ],
             [
              0.8888888888888888,
              "#fdca26"
             ],
             [
              1,
              "#f0f921"
             ]
            ],
            "type": "surface"
           }
          ],
          "table": [
           {
            "cells": {
             "fill": {
              "color": "#EBF0F8"
             },
             "line": {
              "color": "white"
             }
            },
            "header": {
             "fill": {
              "color": "#C8D4E3"
             },
             "line": {
              "color": "white"
             }
            },
            "type": "table"
           }
          ]
         },
         "layout": {
          "annotationdefaults": {
           "arrowcolor": "#2a3f5f",
           "arrowhead": 0,
           "arrowwidth": 1
          },
          "autotypenumbers": "strict",
          "coloraxis": {
           "colorbar": {
            "outlinewidth": 0,
            "ticks": ""
           }
          },
          "colorscale": {
           "diverging": [
            [
             0,
             "#8e0152"
            ],
            [
             0.1,
             "#c51b7d"
            ],
            [
             0.2,
             "#de77ae"
            ],
            [
             0.3,
             "#f1b6da"
            ],
            [
             0.4,
             "#fde0ef"
            ],
            [
             0.5,
             "#f7f7f7"
            ],
            [
             0.6,
             "#e6f5d0"
            ],
            [
             0.7,
             "#b8e186"
            ],
            [
             0.8,
             "#7fbc41"
            ],
            [
             0.9,
             "#4d9221"
            ],
            [
             1,
             "#276419"
            ]
           ],
           "sequential": [
            [
             0,
             "#0d0887"
            ],
            [
             0.1111111111111111,
             "#46039f"
            ],
            [
             0.2222222222222222,
             "#7201a8"
            ],
            [
             0.3333333333333333,
             "#9c179e"
            ],
            [
             0.4444444444444444,
             "#bd3786"
            ],
            [
             0.5555555555555556,
             "#d8576b"
            ],
            [
             0.6666666666666666,
             "#ed7953"
            ],
            [
             0.7777777777777778,
             "#fb9f3a"
            ],
            [
             0.8888888888888888,
             "#fdca26"
            ],
            [
             1,
             "#f0f921"
            ]
           ],
           "sequentialminus": [
            [
             0,
             "#0d0887"
            ],
            [
             0.1111111111111111,
             "#46039f"
            ],
            [
             0.2222222222222222,
             "#7201a8"
            ],
            [
             0.3333333333333333,
             "#9c179e"
            ],
            [
             0.4444444444444444,
             "#bd3786"
            ],
            [
             0.5555555555555556,
             "#d8576b"
            ],
            [
             0.6666666666666666,
             "#ed7953"
            ],
            [
             0.7777777777777778,
             "#fb9f3a"
            ],
            [
             0.8888888888888888,
             "#fdca26"
            ],
            [
             1,
             "#f0f921"
            ]
           ]
          },
          "colorway": [
           "#636efa",
           "#EF553B",
           "#00cc96",
           "#ab63fa",
           "#FFA15A",
           "#19d3f3",
           "#FF6692",
           "#B6E880",
           "#FF97FF",
           "#FECB52"
          ],
          "font": {
           "color": "#2a3f5f"
          },
          "geo": {
           "bgcolor": "white",
           "lakecolor": "white",
           "landcolor": "#E5ECF6",
           "showlakes": true,
           "showland": true,
           "subunitcolor": "white"
          },
          "hoverlabel": {
           "align": "left"
          },
          "hovermode": "closest",
          "mapbox": {
           "style": "light"
          },
          "paper_bgcolor": "white",
          "plot_bgcolor": "#E5ECF6",
          "polar": {
           "angularaxis": {
            "gridcolor": "white",
            "linecolor": "white",
            "ticks": ""
           },
           "bgcolor": "#E5ECF6",
           "radialaxis": {
            "gridcolor": "white",
            "linecolor": "white",
            "ticks": ""
           }
          },
          "scene": {
           "xaxis": {
            "backgroundcolor": "#E5ECF6",
            "gridcolor": "white",
            "gridwidth": 2,
            "linecolor": "white",
            "showbackground": true,
            "ticks": "",
            "zerolinecolor": "white"
           },
           "yaxis": {
            "backgroundcolor": "#E5ECF6",
            "gridcolor": "white",
            "gridwidth": 2,
            "linecolor": "white",
            "showbackground": true,
            "ticks": "",
            "zerolinecolor": "white"
           },
           "zaxis": {
            "backgroundcolor": "#E5ECF6",
            "gridcolor": "white",
            "gridwidth": 2,
            "linecolor": "white",
            "showbackground": true,
            "ticks": "",
            "zerolinecolor": "white"
           }
          },
          "shapedefaults": {
           "line": {
            "color": "#2a3f5f"
           }
          },
          "ternary": {
           "aaxis": {
            "gridcolor": "white",
            "linecolor": "white",
            "ticks": ""
           },
           "baxis": {
            "gridcolor": "white",
            "linecolor": "white",
            "ticks": ""
           },
           "bgcolor": "#E5ECF6",
           "caxis": {
            "gridcolor": "white",
            "linecolor": "white",
            "ticks": ""
           }
          },
          "title": {
           "x": 0.05
          },
          "xaxis": {
           "automargin": true,
           "gridcolor": "white",
           "linecolor": "white",
           "ticks": "",
           "title": {
            "standoff": 15
           },
           "zerolinecolor": "white",
           "zerolinewidth": 2
          },
          "yaxis": {
           "automargin": true,
           "gridcolor": "white",
           "linecolor": "white",
           "ticks": "",
           "title": {
            "standoff": 15
           },
           "zerolinecolor": "white",
           "zerolinewidth": 2
          }
         }
        },
        "title": {
         "text": "Percentage of survery respondents who need awareness regarding reading while driving"
        },
        "xaxis": {
         "anchor": "y",
         "domain": [
          0,
          1
         ],
         "dtick": 1,
         "title": {
          "text": "Zip Code"
         }
        },
        "yaxis": {
         "anchor": "x",
         "domain": [
          0,
          1
         ],
         "title": {
          "text": "Percentage"
         }
        }
       }
      }
     },
     "metadata": {},
     "output_type": "display_data"
    }
   ],
   "source": [
    "data = pd.read_csv('named_data.csv')\n",
    "\n",
    "#Categorize those who are aware and those who need awareness\n",
    "conversion_dict = {'Regularly': 'Need Awareness', 'Fairly Often': 'Need Awareness','Never': 'Aware', 'Rarely': 'Aware', 'Just Once': 'Aware', 'Not Sure': 'Need Awareness'}\n",
    "data['beh_read'] = data['beh_read'].replace(conversion_dict)\n",
    "\n",
    "#Group the data by zip code and beh read and get the number of occurance of each behaviour type within each zip code\n",
    "counts = data.groupby(['zip', 'beh_read']).size()\n",
    "\n",
    "#Calculate the total number of respondents for each zip code\n",
    "total_counts = data.groupby('zip').size()\n",
    "\n",
    "#Retain only those zip codes that have over 10 respondents\n",
    "counts = counts[counts.index.get_level_values('zip').map(total_counts) > 10]\n",
    "\n",
    "#Divide the count for each group by its corresponding total count, and multiply by 100 to get the percentage\n",
    "percentages = (counts / total_counts).mul(100)\n",
    "\n",
    "#Create a new dataframe with the count and percentage columns\n",
    "beh_read_data = pd.concat([counts, percentages], axis=1)\n",
    "beh_read_data.columns = ['count', 'percentage']\n",
    "\n",
    "# reset the index to make zip and beh_read columns\n",
    "beh_read_data = beh_read_data.reset_index()\n",
    "\n",
    "#Convert the zip codes into string for easier plotting\n",
    "beh_read_data['zip'] = beh_read_data['zip'].astype(str)\n",
    "beh_read_data\n",
    "beh_read_data = beh_read_data.sort_values('percentage', ascending=False)\n",
    "#Plot the data\n",
    "fig = px.bar(beh_read_data, x = 'zip', y = 'percentage', color ='beh_read') \n",
    "fig.update_layout(title = f\"Percentage of survery respondents who need awareness regarding reading while driving\",\n",
    "     xaxis_title = 'Zip Code', yaxis_title = 'Percentage', hovermode=False, legend_title_text='Reading while driving')\n",
    "fig.update_layout(xaxis={\"dtick\":1})\n",
    "fig.show()\n",
    "#\n"
   ]
  },
  {
   "cell_type": "code",
   "execution_count": 103,
   "id": "0d0263a3",
   "metadata": {},
   "outputs": [
    {
     "data": {
      "application/vnd.plotly.v1+json": {
       "config": {
        "plotlyServerURL": "https://plot.ly"
       },
       "data": [
        {
         "alignmentgroup": "True",
         "hovertemplate": "beh_type=Aware<br>zip=%{x}<br>percentage=%{y}<extra></extra>",
         "legendgroup": "Aware",
         "marker": {
          "color": "#636efa",
          "pattern": {
           "shape": ""
          }
         },
         "name": "Aware",
         "offsetgroup": "Aware",
         "orientation": "v",
         "showlegend": true,
         "textposition": "auto",
         "type": "bar",
         "x": [
          "98070",
          "98077",
          "98019",
          "98057",
          "98053",
          "98056",
          "98031",
          "98111",
          "98028",
          "98134",
          "98022",
          "98023",
          "98155",
          "98126",
          "98003",
          "98178",
          "98133",
          "98004",
          "98030",
          "98188",
          "98075",
          "98005",
          "98122",
          "98136",
          "98168",
          "98040",
          "98055",
          "98125",
          "98199",
          "98033",
          "98104",
          "98166",
          "98391",
          "98119",
          "98144",
          "98105",
          "98092",
          "98058",
          "98116",
          "98011",
          "98115",
          "98038",
          "98074",
          "98002",
          "98052",
          "98029",
          "98103",
          "98042",
          "98109",
          "98065",
          "98148",
          "98101",
          "98059",
          "98106",
          "98006",
          "98034",
          "98047",
          "98010",
          "98008",
          "98112",
          "98072",
          "98027",
          "98108",
          "98001",
          "98117",
          "98177",
          "98146",
          "98007",
          "98118",
          "98107",
          "98045",
          "98032",
          "98121",
          "98198",
          "98102"
         ],
         "xaxis": "x",
         "y": [
          100,
          100,
          100,
          96.55172413793103,
          96.42857142857143,
          96.22641509433963,
          93.84615384615384,
          92.3076923076923,
          92,
          91.66666666666666,
          91.66666666666666,
          91.57894736842105,
          91.22807017543859,
          91.17647058823529,
          91.1504424778761,
          90.9090909090909,
          90.80459770114942,
          90.69767441860465,
          90.625,
          89.65517241379311,
          89.47368421052632,
          89.47368421052632,
          89.28571428571429,
          88.88888888888889,
          88.57142857142857,
          88.46153846153845,
          88.23529411764706,
          88,
          87.5,
          87.5,
          87.2340425531915,
          87.09677419354838,
          86.95652173913044,
          86.95652173913044,
          86.66666666666667,
          85.8974358974359,
          85.8974358974359,
          85.71428571428571,
          85.71428571428571,
          85.71428571428571,
          85.24590163934425,
          85,
          84.84848484848484,
          84.6938775510204,
          84.48275862068965,
          84.375,
          83.87096774193549,
          83.75,
          83.72093023255815,
          83.33333333333334,
          83.33333333333334,
          82.89473684210526,
          82.45614035087719,
          82,
          81.94444444444444,
          81.81818181818183,
          81.81818181818183,
          81.81818181818183,
          81.63265306122449,
          80.95238095238095,
          80.95238095238095,
          80.76923076923077,
          80.48780487804879,
          80.43478260869566,
          80,
          80,
          79.54545454545455,
          79.41176470588235,
          79.03225806451613,
          78.72340425531915,
          78.26086956521739,
          78.125,
          75,
          73.68421052631578,
          72.05882352941177
         ],
         "yaxis": "y"
        },
        {
         "alignmentgroup": "True",
         "hovertemplate": "beh_type=Need Awareness<br>zip=%{x}<br>percentage=%{y}<extra></extra>",
         "legendgroup": "Need Awareness",
         "marker": {
          "color": "#EF553B",
          "pattern": {
           "shape": ""
          }
         },
         "name": "Need Awareness",
         "offsetgroup": "Need Awareness",
         "orientation": "v",
         "showlegend": true,
         "textposition": "auto",
         "type": "bar",
         "x": [
          "98102",
          "98198",
          "98121",
          "98032",
          "98045",
          "98107",
          "98118",
          "98007",
          "98146",
          "98177",
          "98117",
          "98001",
          "98108",
          "98027",
          "98112",
          "98072",
          "98008",
          "98034",
          "98010",
          "98047",
          "98006",
          "98106",
          "98059",
          "98101",
          "98065",
          "98148",
          "98109",
          "98042",
          "98103",
          "98029",
          "98052",
          "98002",
          "98074",
          "98038",
          "98115",
          "98011",
          "98116",
          "98058",
          "98105",
          "98092",
          "98144",
          "98391",
          "98119",
          "98166",
          "98104",
          "98199",
          "98033",
          "98125",
          "98055",
          "98040",
          "98168",
          "98136",
          "98122",
          "98005",
          "98075",
          "98188",
          "98030",
          "98004",
          "98133",
          "98178",
          "98003",
          "98126",
          "98155",
          "98023",
          "98022",
          "98134",
          "98028",
          "98111",
          "98031",
          "98056",
          "98053",
          "98057"
         ],
         "xaxis": "x",
         "y": [
          27.941176470588236,
          26.31578947368421,
          25,
          21.875,
          21.73913043478261,
          21.27659574468085,
          20.967741935483872,
          20.588235294117645,
          20.454545454545457,
          20,
          20,
          19.565217391304348,
          19.51219512195122,
          19.230769230769234,
          19.047619047619047,
          19.047619047619047,
          18.367346938775512,
          18.181818181818183,
          18.181818181818183,
          18.181818181818183,
          18.055555555555554,
          18,
          17.543859649122805,
          17.105263157894736,
          16.666666666666664,
          16.666666666666664,
          16.27906976744186,
          16.25,
          16.129032258064516,
          15.625,
          15.517241379310345,
          15.306122448979592,
          15.151515151515152,
          15,
          14.754098360655737,
          14.285714285714285,
          14.285714285714285,
          14.285714285714285,
          14.102564102564102,
          14.102564102564102,
          13.333333333333334,
          13.043478260869565,
          13.043478260869565,
          12.903225806451612,
          12.76595744680851,
          12.5,
          12.5,
          12,
          11.76470588235294,
          11.538461538461538,
          11.428571428571429,
          11.11111111111111,
          10.714285714285714,
          10.526315789473683,
          10.526315789473683,
          10.344827586206897,
          9.375,
          9.30232558139535,
          9.195402298850574,
          9.090909090909092,
          8.849557522123893,
          8.823529411764707,
          8.771929824561402,
          8.421052631578947,
          8.333333333333332,
          8.333333333333332,
          8,
          7.6923076923076925,
          6.153846153846154,
          3.7735849056603774,
          3.571428571428571,
          3.4482758620689653
         ],
         "yaxis": "y"
        }
       ],
       "layout": {
        "barmode": "relative",
        "hovermode": false,
        "legend": {
         "title": {
          "text": "Reading while driving"
         },
         "tracegroupgap": 0
        },
        "margin": {
         "t": 60
        },
        "template": {
         "data": {
          "bar": [
           {
            "error_x": {
             "color": "#2a3f5f"
            },
            "error_y": {
             "color": "#2a3f5f"
            },
            "marker": {
             "line": {
              "color": "#E5ECF6",
              "width": 0.5
             },
             "pattern": {
              "fillmode": "overlay",
              "size": 10,
              "solidity": 0.2
             }
            },
            "type": "bar"
           }
          ],
          "barpolar": [
           {
            "marker": {
             "line": {
              "color": "#E5ECF6",
              "width": 0.5
             },
             "pattern": {
              "fillmode": "overlay",
              "size": 10,
              "solidity": 0.2
             }
            },
            "type": "barpolar"
           }
          ],
          "carpet": [
           {
            "aaxis": {
             "endlinecolor": "#2a3f5f",
             "gridcolor": "white",
             "linecolor": "white",
             "minorgridcolor": "white",
             "startlinecolor": "#2a3f5f"
            },
            "baxis": {
             "endlinecolor": "#2a3f5f",
             "gridcolor": "white",
             "linecolor": "white",
             "minorgridcolor": "white",
             "startlinecolor": "#2a3f5f"
            },
            "type": "carpet"
           }
          ],
          "choropleth": [
           {
            "colorbar": {
             "outlinewidth": 0,
             "ticks": ""
            },
            "type": "choropleth"
           }
          ],
          "contour": [
           {
            "colorbar": {
             "outlinewidth": 0,
             "ticks": ""
            },
            "colorscale": [
             [
              0,
              "#0d0887"
             ],
             [
              0.1111111111111111,
              "#46039f"
             ],
             [
              0.2222222222222222,
              "#7201a8"
             ],
             [
              0.3333333333333333,
              "#9c179e"
             ],
             [
              0.4444444444444444,
              "#bd3786"
             ],
             [
              0.5555555555555556,
              "#d8576b"
             ],
             [
              0.6666666666666666,
              "#ed7953"
             ],
             [
              0.7777777777777778,
              "#fb9f3a"
             ],
             [
              0.8888888888888888,
              "#fdca26"
             ],
             [
              1,
              "#f0f921"
             ]
            ],
            "type": "contour"
           }
          ],
          "contourcarpet": [
           {
            "colorbar": {
             "outlinewidth": 0,
             "ticks": ""
            },
            "type": "contourcarpet"
           }
          ],
          "heatmap": [
           {
            "colorbar": {
             "outlinewidth": 0,
             "ticks": ""
            },
            "colorscale": [
             [
              0,
              "#0d0887"
             ],
             [
              0.1111111111111111,
              "#46039f"
             ],
             [
              0.2222222222222222,
              "#7201a8"
             ],
             [
              0.3333333333333333,
              "#9c179e"
             ],
             [
              0.4444444444444444,
              "#bd3786"
             ],
             [
              0.5555555555555556,
              "#d8576b"
             ],
             [
              0.6666666666666666,
              "#ed7953"
             ],
             [
              0.7777777777777778,
              "#fb9f3a"
             ],
             [
              0.8888888888888888,
              "#fdca26"
             ],
             [
              1,
              "#f0f921"
             ]
            ],
            "type": "heatmap"
           }
          ],
          "heatmapgl": [
           {
            "colorbar": {
             "outlinewidth": 0,
             "ticks": ""
            },
            "colorscale": [
             [
              0,
              "#0d0887"
             ],
             [
              0.1111111111111111,
              "#46039f"
             ],
             [
              0.2222222222222222,
              "#7201a8"
             ],
             [
              0.3333333333333333,
              "#9c179e"
             ],
             [
              0.4444444444444444,
              "#bd3786"
             ],
             [
              0.5555555555555556,
              "#d8576b"
             ],
             [
              0.6666666666666666,
              "#ed7953"
             ],
             [
              0.7777777777777778,
              "#fb9f3a"
             ],
             [
              0.8888888888888888,
              "#fdca26"
             ],
             [
              1,
              "#f0f921"
             ]
            ],
            "type": "heatmapgl"
           }
          ],
          "histogram": [
           {
            "marker": {
             "pattern": {
              "fillmode": "overlay",
              "size": 10,
              "solidity": 0.2
             }
            },
            "type": "histogram"
           }
          ],
          "histogram2d": [
           {
            "colorbar": {
             "outlinewidth": 0,
             "ticks": ""
            },
            "colorscale": [
             [
              0,
              "#0d0887"
             ],
             [
              0.1111111111111111,
              "#46039f"
             ],
             [
              0.2222222222222222,
              "#7201a8"
             ],
             [
              0.3333333333333333,
              "#9c179e"
             ],
             [
              0.4444444444444444,
              "#bd3786"
             ],
             [
              0.5555555555555556,
              "#d8576b"
             ],
             [
              0.6666666666666666,
              "#ed7953"
             ],
             [
              0.7777777777777778,
              "#fb9f3a"
             ],
             [
              0.8888888888888888,
              "#fdca26"
             ],
             [
              1,
              "#f0f921"
             ]
            ],
            "type": "histogram2d"
           }
          ],
          "histogram2dcontour": [
           {
            "colorbar": {
             "outlinewidth": 0,
             "ticks": ""
            },
            "colorscale": [
             [
              0,
              "#0d0887"
             ],
             [
              0.1111111111111111,
              "#46039f"
             ],
             [
              0.2222222222222222,
              "#7201a8"
             ],
             [
              0.3333333333333333,
              "#9c179e"
             ],
             [
              0.4444444444444444,
              "#bd3786"
             ],
             [
              0.5555555555555556,
              "#d8576b"
             ],
             [
              0.6666666666666666,
              "#ed7953"
             ],
             [
              0.7777777777777778,
              "#fb9f3a"
             ],
             [
              0.8888888888888888,
              "#fdca26"
             ],
             [
              1,
              "#f0f921"
             ]
            ],
            "type": "histogram2dcontour"
           }
          ],
          "mesh3d": [
           {
            "colorbar": {
             "outlinewidth": 0,
             "ticks": ""
            },
            "type": "mesh3d"
           }
          ],
          "parcoords": [
           {
            "line": {
             "colorbar": {
              "outlinewidth": 0,
              "ticks": ""
             }
            },
            "type": "parcoords"
           }
          ],
          "pie": [
           {
            "automargin": true,
            "type": "pie"
           }
          ],
          "scatter": [
           {
            "fillpattern": {
             "fillmode": "overlay",
             "size": 10,
             "solidity": 0.2
            },
            "type": "scatter"
           }
          ],
          "scatter3d": [
           {
            "line": {
             "colorbar": {
              "outlinewidth": 0,
              "ticks": ""
             }
            },
            "marker": {
             "colorbar": {
              "outlinewidth": 0,
              "ticks": ""
             }
            },
            "type": "scatter3d"
           }
          ],
          "scattercarpet": [
           {
            "marker": {
             "colorbar": {
              "outlinewidth": 0,
              "ticks": ""
             }
            },
            "type": "scattercarpet"
           }
          ],
          "scattergeo": [
           {
            "marker": {
             "colorbar": {
              "outlinewidth": 0,
              "ticks": ""
             }
            },
            "type": "scattergeo"
           }
          ],
          "scattergl": [
           {
            "marker": {
             "colorbar": {
              "outlinewidth": 0,
              "ticks": ""
             }
            },
            "type": "scattergl"
           }
          ],
          "scattermapbox": [
           {
            "marker": {
             "colorbar": {
              "outlinewidth": 0,
              "ticks": ""
             }
            },
            "type": "scattermapbox"
           }
          ],
          "scatterpolar": [
           {
            "marker": {
             "colorbar": {
              "outlinewidth": 0,
              "ticks": ""
             }
            },
            "type": "scatterpolar"
           }
          ],
          "scatterpolargl": [
           {
            "marker": {
             "colorbar": {
              "outlinewidth": 0,
              "ticks": ""
             }
            },
            "type": "scatterpolargl"
           }
          ],
          "scatterternary": [
           {
            "marker": {
             "colorbar": {
              "outlinewidth": 0,
              "ticks": ""
             }
            },
            "type": "scatterternary"
           }
          ],
          "surface": [
           {
            "colorbar": {
             "outlinewidth": 0,
             "ticks": ""
            },
            "colorscale": [
             [
              0,
              "#0d0887"
             ],
             [
              0.1111111111111111,
              "#46039f"
             ],
             [
              0.2222222222222222,
              "#7201a8"
             ],
             [
              0.3333333333333333,
              "#9c179e"
             ],
             [
              0.4444444444444444,
              "#bd3786"
             ],
             [
              0.5555555555555556,
              "#d8576b"
             ],
             [
              0.6666666666666666,
              "#ed7953"
             ],
             [
              0.7777777777777778,
              "#fb9f3a"
             ],
             [
              0.8888888888888888,
              "#fdca26"
             ],
             [
              1,
              "#f0f921"
             ]
            ],
            "type": "surface"
           }
          ],
          "table": [
           {
            "cells": {
             "fill": {
              "color": "#EBF0F8"
             },
             "line": {
              "color": "white"
             }
            },
            "header": {
             "fill": {
              "color": "#C8D4E3"
             },
             "line": {
              "color": "white"
             }
            },
            "type": "table"
           }
          ]
         },
         "layout": {
          "annotationdefaults": {
           "arrowcolor": "#2a3f5f",
           "arrowhead": 0,
           "arrowwidth": 1
          },
          "autotypenumbers": "strict",
          "coloraxis": {
           "colorbar": {
            "outlinewidth": 0,
            "ticks": ""
           }
          },
          "colorscale": {
           "diverging": [
            [
             0,
             "#8e0152"
            ],
            [
             0.1,
             "#c51b7d"
            ],
            [
             0.2,
             "#de77ae"
            ],
            [
             0.3,
             "#f1b6da"
            ],
            [
             0.4,
             "#fde0ef"
            ],
            [
             0.5,
             "#f7f7f7"
            ],
            [
             0.6,
             "#e6f5d0"
            ],
            [
             0.7,
             "#b8e186"
            ],
            [
             0.8,
             "#7fbc41"
            ],
            [
             0.9,
             "#4d9221"
            ],
            [
             1,
             "#276419"
            ]
           ],
           "sequential": [
            [
             0,
             "#0d0887"
            ],
            [
             0.1111111111111111,
             "#46039f"
            ],
            [
             0.2222222222222222,
             "#7201a8"
            ],
            [
             0.3333333333333333,
             "#9c179e"
            ],
            [
             0.4444444444444444,
             "#bd3786"
            ],
            [
             0.5555555555555556,
             "#d8576b"
            ],
            [
             0.6666666666666666,
             "#ed7953"
            ],
            [
             0.7777777777777778,
             "#fb9f3a"
            ],
            [
             0.8888888888888888,
             "#fdca26"
            ],
            [
             1,
             "#f0f921"
            ]
           ],
           "sequentialminus": [
            [
             0,
             "#0d0887"
            ],
            [
             0.1111111111111111,
             "#46039f"
            ],
            [
             0.2222222222222222,
             "#7201a8"
            ],
            [
             0.3333333333333333,
             "#9c179e"
            ],
            [
             0.4444444444444444,
             "#bd3786"
            ],
            [
             0.5555555555555556,
             "#d8576b"
            ],
            [
             0.6666666666666666,
             "#ed7953"
            ],
            [
             0.7777777777777778,
             "#fb9f3a"
            ],
            [
             0.8888888888888888,
             "#fdca26"
            ],
            [
             1,
             "#f0f921"
            ]
           ]
          },
          "colorway": [
           "#636efa",
           "#EF553B",
           "#00cc96",
           "#ab63fa",
           "#FFA15A",
           "#19d3f3",
           "#FF6692",
           "#B6E880",
           "#FF97FF",
           "#FECB52"
          ],
          "font": {
           "color": "#2a3f5f"
          },
          "geo": {
           "bgcolor": "white",
           "lakecolor": "white",
           "landcolor": "#E5ECF6",
           "showlakes": true,
           "showland": true,
           "subunitcolor": "white"
          },
          "hoverlabel": {
           "align": "left"
          },
          "hovermode": "closest",
          "mapbox": {
           "style": "light"
          },
          "paper_bgcolor": "white",
          "plot_bgcolor": "#E5ECF6",
          "polar": {
           "angularaxis": {
            "gridcolor": "white",
            "linecolor": "white",
            "ticks": ""
           },
           "bgcolor": "#E5ECF6",
           "radialaxis": {
            "gridcolor": "white",
            "linecolor": "white",
            "ticks": ""
           }
          },
          "scene": {
           "xaxis": {
            "backgroundcolor": "#E5ECF6",
            "gridcolor": "white",
            "gridwidth": 2,
            "linecolor": "white",
            "showbackground": true,
            "ticks": "",
            "zerolinecolor": "white"
           },
           "yaxis": {
            "backgroundcolor": "#E5ECF6",
            "gridcolor": "white",
            "gridwidth": 2,
            "linecolor": "white",
            "showbackground": true,
            "ticks": "",
            "zerolinecolor": "white"
           },
           "zaxis": {
            "backgroundcolor": "#E5ECF6",
            "gridcolor": "white",
            "gridwidth": 2,
            "linecolor": "white",
            "showbackground": true,
            "ticks": "",
            "zerolinecolor": "white"
           }
          },
          "shapedefaults": {
           "line": {
            "color": "#2a3f5f"
           }
          },
          "ternary": {
           "aaxis": {
            "gridcolor": "white",
            "linecolor": "white",
            "ticks": ""
           },
           "baxis": {
            "gridcolor": "white",
            "linecolor": "white",
            "ticks": ""
           },
           "bgcolor": "#E5ECF6",
           "caxis": {
            "gridcolor": "white",
            "linecolor": "white",
            "ticks": ""
           }
          },
          "title": {
           "x": 0.05
          },
          "xaxis": {
           "automargin": true,
           "gridcolor": "white",
           "linecolor": "white",
           "ticks": "",
           "title": {
            "standoff": 15
           },
           "zerolinecolor": "white",
           "zerolinewidth": 2
          },
          "yaxis": {
           "automargin": true,
           "gridcolor": "white",
           "linecolor": "white",
           "ticks": "",
           "title": {
            "standoff": 15
           },
           "zerolinecolor": "white",
           "zerolinewidth": 2
          }
         }
        },
        "title": {
         "text": "Percentage of survery respondents who need awareness regarding reading while driving"
        },
        "xaxis": {
         "anchor": "y",
         "domain": [
          0,
          1
         ],
         "dtick": 1,
         "title": {
          "text": "Zip Code"
         }
        },
        "yaxis": {
         "anchor": "x",
         "domain": [
          0,
          1
         ],
         "title": {
          "text": "Percentage"
         }
        }
       }
      }
     },
     "metadata": {},
     "output_type": "display_data"
    }
   ],
   "source": [
    "data = pd.read_csv('named_data.csv')\n",
    "\n",
    "#Categorize those who are aware and those who need awareness\n",
    "conversion_dict = {'Regularly': 'Need Awareness', 'Fairly Often': 'Need Awareness','Never': 'Aware', 'Rarely': 'Aware', 'Just Once': 'Aware', 'Not Sure': 'Need Awareness'}\n",
    "data['beh_type'] = data['beh_type'].replace(conversion_dict)\n",
    "\n",
    "#Group the data by zip code and beh read and get the number of occurance of each behaviour type within each zip code\n",
    "counts = data.groupby(['zip', 'beh_type']).size()\n",
    "\n",
    "#Calculate the total number of respondents for each zip code\n",
    "total_counts = data.groupby('zip').size()\n",
    "\n",
    "#Retain only those zip codes that have over 10 respondents\n",
    "counts = counts[counts.index.get_level_values('zip').map(total_counts) > 10]\n",
    "\n",
    "#Divide the count for each group by its corresponding total count, and multiply by 100 to get the percentage\n",
    "percentages = (counts / total_counts).mul(100)\n",
    "\n",
    "#Create a new dataframe with the count and percentage columns\n",
    "beh_read_data = pd.concat([counts, percentages], axis=1)\n",
    "beh_read_data.columns = ['count', 'percentage']\n",
    "\n",
    "# reset the index to make zip and beh_read columns\n",
    "beh_read_data = beh_read_data.reset_index()\n",
    "\n",
    "#Convert the zip codes into string for easier plotting\n",
    "beh_read_data['zip'] = beh_read_data['zip'].astype(str)\n",
    "beh_read_data\n",
    "beh_read_data = beh_read_data.sort_values('percentage', ascending=False)\n",
    "#Plot the data\n",
    "fig = px.bar(beh_read_data, x = 'zip', y = 'percentage', color ='beh_type') \n",
    "fig.update_layout(title = f\"Percentage of survery respondents who need awareness regarding reading while driving\",\n",
    "     xaxis_title = 'Zip Code', yaxis_title = 'Percentage', hovermode=False, legend_title_text='Reading while driving')\n",
    "fig.update_layout(xaxis={\"dtick\":1})\n",
    "fig.show()"
   ]
  },
  {
   "cell_type": "code",
   "execution_count": 104,
   "id": "b2c1073b",
   "metadata": {},
   "outputs": [
    {
     "data": {
      "text/html": [
       "<div>\n",
       "<style scoped>\n",
       "    .dataframe tbody tr th:only-of-type {\n",
       "        vertical-align: middle;\n",
       "    }\n",
       "\n",
       "    .dataframe tbody tr th {\n",
       "        vertical-align: top;\n",
       "    }\n",
       "\n",
       "    .dataframe thead th {\n",
       "        text-align: right;\n",
       "    }\n",
       "</style>\n",
       "<table border=\"1\" class=\"dataframe\">\n",
       "  <thead>\n",
       "    <tr style=\"text-align: right;\">\n",
       "      <th></th>\n",
       "      <th>zip</th>\n",
       "      <th>work_outside_home</th>\n",
       "      <th>Commute</th>\n",
       "      <th>beh_read</th>\n",
       "      <th>beh_type</th>\n",
       "      <th>beh_handheld</th>\n",
       "      <th>beh_handfree</th>\n",
       "      <th>...</th>\n",
       "      <th>Language</th>\n",
       "      <th>legal_gps2122</th>\n",
       "      <th>legal_music2122</th>\n",
       "      <th>legal_app2122</th>\n",
       "      <th>year</th>\n",
       "      <th>month</th>\n",
       "      <th>day</th>\n",
       "    </tr>\n",
       "  </thead>\n",
       "  <tbody>\n",
       "    <tr>\n",
       "      <th>0</th>\n",
       "      <td>98001</td>\n",
       "      <td>1</td>\n",
       "      <td>1.0</td>\n",
       "      <td>2</td>\n",
       "      <td>2</td>\n",
       "      <td>3</td>\n",
       "      <td>5</td>\n",
       "      <td>...</td>\n",
       "      <td>NaN</td>\n",
       "      <td>NaN</td>\n",
       "      <td>NaN</td>\n",
       "      <td>NaN</td>\n",
       "      <td>2018</td>\n",
       "      <td>6</td>\n",
       "      <td>17</td>\n",
       "    </tr>\n",
       "    <tr>\n",
       "      <th>1</th>\n",
       "      <td>98052</td>\n",
       "      <td>1</td>\n",
       "      <td>1.0</td>\n",
       "      <td>5</td>\n",
       "      <td>5</td>\n",
       "      <td>5</td>\n",
       "      <td>2</td>\n",
       "      <td>...</td>\n",
       "      <td>NaN</td>\n",
       "      <td>NaN</td>\n",
       "      <td>NaN</td>\n",
       "      <td>NaN</td>\n",
       "      <td>2018</td>\n",
       "      <td>6</td>\n",
       "      <td>17</td>\n",
       "    </tr>\n",
       "    <tr>\n",
       "      <th>2</th>\n",
       "      <td>98042</td>\n",
       "      <td>1</td>\n",
       "      <td>1.0</td>\n",
       "      <td>5</td>\n",
       "      <td>5</td>\n",
       "      <td>2</td>\n",
       "      <td>2</td>\n",
       "      <td>...</td>\n",
       "      <td>NaN</td>\n",
       "      <td>NaN</td>\n",
       "      <td>NaN</td>\n",
       "      <td>NaN</td>\n",
       "      <td>2018</td>\n",
       "      <td>6</td>\n",
       "      <td>17</td>\n",
       "    </tr>\n",
       "    <tr>\n",
       "      <th>3</th>\n",
       "      <td>98028</td>\n",
       "      <td>2</td>\n",
       "      <td>NaN</td>\n",
       "      <td>5</td>\n",
       "      <td>5</td>\n",
       "      <td>5</td>\n",
       "      <td>5</td>\n",
       "      <td>...</td>\n",
       "      <td>NaN</td>\n",
       "      <td>NaN</td>\n",
       "      <td>NaN</td>\n",
       "      <td>NaN</td>\n",
       "      <td>2018</td>\n",
       "      <td>6</td>\n",
       "      <td>17</td>\n",
       "    </tr>\n",
       "    <tr>\n",
       "      <th>4</th>\n",
       "      <td>98003</td>\n",
       "      <td>2</td>\n",
       "      <td>NaN</td>\n",
       "      <td>5</td>\n",
       "      <td>5</td>\n",
       "      <td>5</td>\n",
       "      <td>3</td>\n",
       "      <td>...</td>\n",
       "      <td>NaN</td>\n",
       "      <td>NaN</td>\n",
       "      <td>NaN</td>\n",
       "      <td>NaN</td>\n",
       "      <td>2018</td>\n",
       "      <td>6</td>\n",
       "      <td>17</td>\n",
       "    </tr>\n",
       "  </tbody>\n",
       "</table>\n",
       "<p>5 rows × 72 columns</p>\n",
       "</div>"
      ],
      "text/plain": [
       "     zip  work_outside_home  Commute  beh_read  beh_type  beh_handheld  \\\n",
       "0  98001                  1      1.0         2         2             3   \n",
       "1  98052                  1      1.0         5         5             5   \n",
       "2  98042                  1      1.0         5         5             2   \n",
       "3  98028                  2      NaN         5         5             5   \n",
       "4  98003                  2      NaN         5         5             5   \n",
       "\n",
       "   beh_handfree  ...  Language  legal_gps2122  legal_music2122  legal_app2122  \\\n",
       "0             5  ...       NaN            NaN              NaN            NaN   \n",
       "1             2  ...       NaN            NaN              NaN            NaN   \n",
       "2             2  ...       NaN            NaN              NaN            NaN   \n",
       "3             5  ...       NaN            NaN              NaN            NaN   \n",
       "4             3  ...       NaN            NaN              NaN            NaN   \n",
       "\n",
       "   year  month  day  \n",
       "0  2018      6   17  \n",
       "1  2018      6   17  \n",
       "2  2018      6   17  \n",
       "3  2018      6   17  \n",
       "4  2018      6   17  \n",
       "\n",
       "[5 rows x 72 columns]"
      ]
     },
     "execution_count": 104,
     "metadata": {},
     "output_type": "execute_result"
    }
   ],
   "source": [
    "traffic_data = pd.read_csv('KC Survey_All Years.csv')\n",
    "traffic_data.head(5)"
   ]
  },
  {
   "attachments": {},
   "cell_type": "markdown",
   "id": "b225879f",
   "metadata": {},
   "source": [
    "Define a function that changes the not sure value to a random reply"
   ]
  },
  {
   "cell_type": "code",
   "execution_count": 105,
   "id": "aa0ee907",
   "metadata": {},
   "outputs": [],
   "source": [
    "def modify_ns(frame, ns_val, min, max):\n",
    "    return np.where((frame)==ns_val,random.randint(min,max) , frame)"
   ]
  },
  {
   "attachments": {},
   "cell_type": "markdown",
   "id": "8ca47f1e",
   "metadata": {},
   "source": [
    "Generate the beh score"
   ]
  },
  {
   "cell_type": "code",
   "execution_count": 106,
   "id": "43a8dff8",
   "metadata": {},
   "outputs": [],
   "source": [
    "for column in (traffic_data.loc[:, 'beh_read':'beh_app']).columns:\n",
    "    traffic_data[column] = modify_ns(traffic_data[column], 6, 4, 5)\n",
    "\n",
    "traffic_data['beh_score']=20-traffic_data['beh_read']-traffic_data['beh_type']-traffic_data['beh_handheld']-traffic_data['beh_app']"
   ]
  },
  {
   "cell_type": "code",
   "execution_count": 107,
   "id": "dcbaa3c2",
   "metadata": {},
   "outputs": [],
   "source": [
    "\n",
    "for column in (traffic_data.loc[:, 'acc_handheld':'acc_app']).columns:\n",
    "    traffic_data[column] = modify_ns(traffic_data[column], 5, 3, 4)\n",
    "    \n",
    "traffic_data['acc_score']=20-traffic_data['acc_handheld']-traffic_data['acc_handfree']-traffic_data['acc_read']-traffic_data['acc_type']-traffic_data['acc_app']"
   ]
  },
  {
   "cell_type": "code",
   "execution_count": 108,
   "id": "9f4504a5",
   "metadata": {},
   "outputs": [],
   "source": [
    "\n",
    "for column in (traffic_data.loc[:, 'threat_talk':'threat_app']).columns:\n",
    "    traffic_data[column] = modify_ns(traffic_data[column], 5, 3, 4)\n",
    "    traffic_data[column]=traffic_data[column].fillna(value=0)\n",
    "    \n",
    "traffic_data['threat_score'] = 0   \n",
    "for column in (traffic_data.loc[:, 'threat_talk':'threat_app']).columns:\n",
    "    traffic_data['threat_score']= traffic_data['threat_score'] + traffic_data[column]\n"
   ]
  },
  {
   "cell_type": "code",
   "execution_count": 109,
   "id": "460cc723",
   "metadata": {},
   "outputs": [],
   "source": [
    "for column in (traffic_data.loc[:, 'legal_addgps':'legal_video']).columns:\n",
    "    traffic_data[column] = modify_ns(traffic_data[column], 3, 1, 2)\n",
    "    traffic_data[column]=traffic_data[column].fillna(value=0)\n",
    "    \n",
    "traffic_data['legal_score']=32\n",
    "for column in (traffic_data.loc[:, 'legal_addgps':'legal_video']).columns:\n",
    "    traffic_data['legal_score'] = traffic_data['legal_score']-traffic_data[column]\n"
   ]
  },
  {
   "cell_type": "code",
   "execution_count": 110,
   "id": "ded226e0",
   "metadata": {},
   "outputs": [],
   "source": [
    "for column in (traffic_data.loc[:, 'will30_handheld':'willever_crashtext']).columns:\n",
    "    traffic_data[column] = modify_ns(traffic_data[column], 5, 3, 4)\n",
    "    traffic_data[column]=traffic_data[column].fillna(value=0)\n",
    "    \n",
    "traffic_data['will_score']=28\n",
    "for column in (traffic_data.loc[:, 'will30_handheld':'willever_crashtext']).columns:\n",
    "    traffic_data['will_score'] = traffic_data['will_score']-traffic_data[column]"
   ]
  },
  {
   "cell_type": "code",
   "execution_count": 115,
   "id": "dda282c5",
   "metadata": {},
   "outputs": [],
   "source": [
    "traffic_data['Nonawareness_score'] = traffic_data['beh_score']+traffic_data['acc_score']+traffic_data['threat_score']+traffic_data['legal_score']+traffic_data['will_score']"
   ]
  },
  {
   "cell_type": "code",
   "execution_count": 126,
   "id": "4a518ecf",
   "metadata": {},
   "outputs": [],
   "source": [
    "pd.set_option('display.max_columns', 18)\n",
    "traffic_data\n",
    "traffic_data.to_csv('scored_csv.csv')\n"
   ]
  },
  {
   "attachments": {},
   "cell_type": "markdown",
   "id": "1a68d851",
   "metadata": {},
   "source": [
    "Lets analyze the change in Non awareness score throughout the years"
   ]
  },
  {
   "cell_type": "code",
   "execution_count": 122,
   "id": "43eecd44",
   "metadata": {},
   "outputs": [
    {
     "data": {
      "image/png": "[encoded data removed]",
      "text/plain": [
       "<Figure size 1200x1200 with 1 Axes>"
      ]
     },
     "metadata": {},
     "output_type": "display_data"
    }
   ],
   "source": [
    "\n",
    "traffic_data.groupby('year')['Nonawareness_score'].mean().plot(kind='line')\n",
    "plt.title('Average Nonawareness Score by Year')\n",
    "plt.xlabel('Year')\n",
    "plt.ylabel('Average Nonawareness Score')\n",
    "plt.show()\n"
   ]
  },
  {
   "cell_type": "code",
   "execution_count": 129,
   "id": "179b195c",
   "metadata": {},
   "outputs": [
    {
     "data": {
      "text/html": [
       "<div>\n",
       "<style scoped>\n",
       "    .dataframe tbody tr th:only-of-type {\n",
       "        vertical-align: middle;\n",
       "    }\n",
       "\n",
       "    .dataframe tbody tr th {\n",
       "        vertical-align: top;\n",
       "    }\n",
       "\n",
       "    .dataframe thead th {\n",
       "        text-align: right;\n",
       "    }\n",
       "</style>\n",
       "<table border=\"1\" class=\"dataframe\">\n",
       "  <thead>\n",
       "    <tr style=\"text-align: right;\">\n",
       "      <th>year</th>\n",
       "      <th>2018</th>\n",
       "      <th>2019</th>\n",
       "      <th>2021</th>\n",
       "      <th>2022</th>\n",
       "    </tr>\n",
       "    <tr>\n",
       "      <th>zip</th>\n",
       "      <th></th>\n",
       "      <th></th>\n",
       "      <th></th>\n",
       "      <th></th>\n",
       "    </tr>\n",
       "  </thead>\n",
       "  <tbody>\n",
       "    <tr>\n",
       "      <th>98001</th>\n",
       "      <td>33.250000</td>\n",
       "      <td>33.900000</td>\n",
       "      <td>50.400000</td>\n",
       "      <td>42.590909</td>\n",
       "    </tr>\n",
       "    <tr>\n",
       "      <th>98002</th>\n",
       "      <td>35.047619</td>\n",
       "      <td>35.565217</td>\n",
       "      <td>45.578947</td>\n",
       "      <td>41.314286</td>\n",
       "    </tr>\n",
       "    <tr>\n",
       "      <th>98003</th>\n",
       "      <td>34.266667</td>\n",
       "      <td>35.125000</td>\n",
       "      <td>36.608696</td>\n",
       "      <td>37.071429</td>\n",
       "    </tr>\n",
       "    <tr>\n",
       "      <th>98004</th>\n",
       "      <td>34.300000</td>\n",
       "      <td>38.909091</td>\n",
       "      <td>39.583333</td>\n",
       "      <td>51.300000</td>\n",
       "    </tr>\n",
       "    <tr>\n",
       "      <th>98005</th>\n",
       "      <td>43.000000</td>\n",
       "      <td>40.000000</td>\n",
       "      <td>41.888889</td>\n",
       "      <td>41.000000</td>\n",
       "    </tr>\n",
       "    <tr>\n",
       "      <th>...</th>\n",
       "      <td>...</td>\n",
       "      <td>...</td>\n",
       "      <td>...</td>\n",
       "      <td>...</td>\n",
       "    </tr>\n",
       "    <tr>\n",
       "      <th>98195</th>\n",
       "      <td>NaN</td>\n",
       "      <td>40.500000</td>\n",
       "      <td>36.000000</td>\n",
       "      <td>NaN</td>\n",
       "    </tr>\n",
       "    <tr>\n",
       "      <th>98198</th>\n",
       "      <td>35.333333</td>\n",
       "      <td>38.631579</td>\n",
       "      <td>44.136364</td>\n",
       "      <td>39.411765</td>\n",
       "    </tr>\n",
       "    <tr>\n",
       "      <th>98199</th>\n",
       "      <td>28.666667</td>\n",
       "      <td>34.250000</td>\n",
       "      <td>39.250000</td>\n",
       "      <td>46.000000</td>\n",
       "    </tr>\n",
       "    <tr>\n",
       "      <th>98224</th>\n",
       "      <td>33.000000</td>\n",
       "      <td>36.000000</td>\n",
       "      <td>31.000000</td>\n",
       "      <td>55.333333</td>\n",
       "    </tr>\n",
       "    <tr>\n",
       "      <th>98391</th>\n",
       "      <td>34.050000</td>\n",
       "      <td>36.272727</td>\n",
       "      <td>43.933333</td>\n",
       "      <td>41.085714</td>\n",
       "    </tr>\n",
       "  </tbody>\n",
       "</table>\n",
       "<p>117 rows × 4 columns</p>\n",
       "</div>"
      ],
      "text/plain": [
       "year        2018       2019       2021       2022\n",
       "zip                                              \n",
       "98001  33.250000  33.900000  50.400000  42.590909\n",
       "98002  35.047619  35.565217  45.578947  41.314286\n",
       "98003  34.266667  35.125000  36.608696  37.071429\n",
       "98004  34.300000  38.909091  39.583333  51.300000\n",
       "98005  43.000000  40.000000  41.888889  41.000000\n",
       "...          ...        ...        ...        ...\n",
       "98195        NaN  40.500000  36.000000        NaN\n",
       "98198  35.333333  38.631579  44.136364  39.411765\n",
       "98199  28.666667  34.250000  39.250000  46.000000\n",
       "98224  33.000000  36.000000  31.000000  55.333333\n",
       "98391  34.050000  36.272727  43.933333  41.085714\n",
       "\n",
       "[117 rows x 4 columns]"
      ]
     },
     "execution_count": 129,
     "metadata": {},
     "output_type": "execute_result"
    }
   ],
   "source": [
    "pd.pivot_table(traffic_data, values='Nonawareness_score', index='zip', columns='year', aggfunc='mean')"
   ]
  },
  {
   "cell_type": "code",
   "execution_count": 128,
   "id": "17b7a5ec",
   "metadata": {},
   "outputs": [
    {
     "data": {
      "text/html": [
       "<div>\n",
       "<style scoped>\n",
       "    .dataframe tbody tr th:only-of-type {\n",
       "        vertical-align: middle;\n",
       "    }\n",
       "\n",
       "    .dataframe tbody tr th {\n",
       "        vertical-align: top;\n",
       "    }\n",
       "\n",
       "    .dataframe thead th {\n",
       "        text-align: right;\n",
       "    }\n",
       "</style>\n",
       "<table border=\"1\" class=\"dataframe\">\n",
       "  <thead>\n",
       "    <tr style=\"text-align: right;\">\n",
       "      <th>year</th>\n",
       "      <th>2018</th>\n",
       "      <th>2019</th>\n",
       "      <th>2021</th>\n",
       "      <th>2022</th>\n",
       "    </tr>\n",
       "    <tr>\n",
       "      <th>zip</th>\n",
       "      <th></th>\n",
       "      <th></th>\n",
       "      <th></th>\n",
       "      <th></th>\n",
       "    </tr>\n",
       "  </thead>\n",
       "  <tbody>\n",
       "    <tr>\n",
       "      <th>98001</th>\n",
       "      <td>NaN</td>\n",
       "      <td>0.019549</td>\n",
       "      <td>0.486726</td>\n",
       "      <td>-0.154942</td>\n",
       "    </tr>\n",
       "    <tr>\n",
       "      <th>98002</th>\n",
       "      <td>NaN</td>\n",
       "      <td>0.014768</td>\n",
       "      <td>0.281560</td>\n",
       "      <td>-0.093566</td>\n",
       "    </tr>\n",
       "    <tr>\n",
       "      <th>98003</th>\n",
       "      <td>NaN</td>\n",
       "      <td>0.025049</td>\n",
       "      <td>0.042240</td>\n",
       "      <td>0.012640</td>\n",
       "    </tr>\n",
       "    <tr>\n",
       "      <th>98004</th>\n",
       "      <td>NaN</td>\n",
       "      <td>0.134376</td>\n",
       "      <td>0.017329</td>\n",
       "      <td>0.296000</td>\n",
       "    </tr>\n",
       "    <tr>\n",
       "      <th>98005</th>\n",
       "      <td>NaN</td>\n",
       "      <td>-0.069767</td>\n",
       "      <td>0.047222</td>\n",
       "      <td>-0.021220</td>\n",
       "    </tr>\n",
       "    <tr>\n",
       "      <th>...</th>\n",
       "      <td>...</td>\n",
       "      <td>...</td>\n",
       "      <td>...</td>\n",
       "      <td>...</td>\n",
       "    </tr>\n",
       "    <tr>\n",
       "      <th>98195</th>\n",
       "      <td>NaN</td>\n",
       "      <td>NaN</td>\n",
       "      <td>-0.111111</td>\n",
       "      <td>0.000000</td>\n",
       "    </tr>\n",
       "    <tr>\n",
       "      <th>98198</th>\n",
       "      <td>NaN</td>\n",
       "      <td>0.093347</td>\n",
       "      <td>0.142494</td>\n",
       "      <td>-0.107045</td>\n",
       "    </tr>\n",
       "    <tr>\n",
       "      <th>98199</th>\n",
       "      <td>NaN</td>\n",
       "      <td>0.194767</td>\n",
       "      <td>0.145985</td>\n",
       "      <td>0.171975</td>\n",
       "    </tr>\n",
       "    <tr>\n",
       "      <th>98224</th>\n",
       "      <td>NaN</td>\n",
       "      <td>0.090909</td>\n",
       "      <td>-0.138889</td>\n",
       "      <td>0.784946</td>\n",
       "    </tr>\n",
       "    <tr>\n",
       "      <th>98391</th>\n",
       "      <td>NaN</td>\n",
       "      <td>0.065278</td>\n",
       "      <td>0.211195</td>\n",
       "      <td>-0.064817</td>\n",
       "    </tr>\n",
       "  </tbody>\n",
       "</table>\n",
       "<p>117 rows × 4 columns</p>\n",
       "</div>"
      ],
      "text/plain": [
       "year   2018      2019      2021      2022\n",
       "zip                                      \n",
       "98001   NaN  0.019549  0.486726 -0.154942\n",
       "98002   NaN  0.014768  0.281560 -0.093566\n",
       "98003   NaN  0.025049  0.042240  0.012640\n",
       "98004   NaN  0.134376  0.017329  0.296000\n",
       "98005   NaN -0.069767  0.047222 -0.021220\n",
       "...     ...       ...       ...       ...\n",
       "98195   NaN       NaN -0.111111  0.000000\n",
       "98198   NaN  0.093347  0.142494 -0.107045\n",
       "98199   NaN  0.194767  0.145985  0.171975\n",
       "98224   NaN  0.090909 -0.138889  0.784946\n",
       "98391   NaN  0.065278  0.211195 -0.064817\n",
       "\n",
       "[117 rows x 4 columns]"
      ]
     },
     "execution_count": 128,
     "metadata": {},
     "output_type": "execute_result"
    }
   ],
   "source": [
    "pd.pivot_table(traffic_data, values='Nonawareness_score', index='zip', columns='year', aggfunc='mean').pct_change(axis='columns')\n",
    "# df = df.set_index('zip')\n",
    "\n",
    "# calculate percentage change by year\n",
    "# pct_change = df.pct_change(axis='columns')"
   ]
  }
 ],
 "metadata": {
  "kernelspec": {
   "display_name": "Python 3",
   "language": "python",
   "name": "python3"
  },
  "language_info": {
   "codemirror_mode": {
    "name": "ipython",
    "version": 3
   },
   "file_extension": ".py",
   "mimetype": "text/x-python",
   "name": "python",
   "nbconvert_exporter": "python",
   "pygments_lexer": "ipython3",
   "version": "3.10.6"
  },
  "vscode": {
   "interpreter": {
    "hash": "a42ccb73e7d9bfdf27e036f1d2b8b681e55fc0743cc5586bc2474d4a60f4b886"
   }
  }
 },
 "nbformat": 4,
 "nbformat_minor": 5
}
